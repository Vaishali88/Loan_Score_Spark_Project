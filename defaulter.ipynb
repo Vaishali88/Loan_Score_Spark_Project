{
 "cells": [
  {
   "cell_type": "code",
   "execution_count": 1,
   "id": "9495778f-f037-4422-a624-d5bce98fdbdd",
   "metadata": {},
   "outputs": [],
   "source": [
    "from pyspark.sql import SparkSession\n",
    "from pyspark.sql.functions import *"
   ]
  },
  {
   "cell_type": "code",
   "execution_count": null,
   "id": "381fd7dc-17c0-411a-afa1-e6b6aee5d23e",
   "metadata": {},
   "outputs": [],
   "source": []
  },
  {
   "cell_type": "code",
   "execution_count": 2,
   "id": "2d24f1e3-6f67-4802-9ef2-32d40050e1bc",
   "metadata": {},
   "outputs": [
    {
     "name": "stderr",
     "output_type": "stream",
     "text": [
      "Warning: Ignoring non-Spark config property: spark\n",
      "Setting default log level to \"WARN\".\n",
      "To adjust logging level use sc.setLogLevel(newLevel). For SparkR, use setLogLevel(newLevel).\n"
     ]
    }
   ],
   "source": [
    "spark = SparkSession.builder.appName(\"loa\") \\\n",
    ".master(\"spark://10.208.36.84:7077\") \\\n",
    ".config(\"spark.hadoop.defaultFS\",\"hdfs://10.208.36.84:9000\") \\\n",
    ".config(\"spark.executor.cores\",2) \\\n",
    ".config(\"spark.executor.memory\",\"4g\") \\\n",
    ".config(\"spark.cores.max\",\"4\") \\\n",
    ".getOrCreate()\n"
   ]
  },
  {
   "cell_type": "code",
   "execution_count": 3,
   "id": "d7165dee-f6d2-4f20-b5b3-b05a3e603b8f",
   "metadata": {},
   "outputs": [],
   "source": [
    "sche = \"member_id string, delinq_2yrs float,delinq_amnt float,pub_rec float,pub_rec_bankruptcies float,inq_last_6mths float,total_rec_late_fee float,mths_since_last_delinq float,mths_since_last_record float\"      "
   ]
  },
  {
   "cell_type": "code",
   "execution_count": 4,
   "id": "116e197c-5dc3-4a88-9f94-799a3bb3da19",
   "metadata": {},
   "outputs": [],
   "source": [
    "df = spark.read.format(\"csv\").option(\"header\",\"true\") \\\n",
    ".schema(sche)\\\n",
    ".load(\"/home/tushar/Documents/project/loan_deafulters_raw\")"
   ]
  },
  {
   "cell_type": "code",
   "execution_count": 5,
   "id": "988cd977-23b4-49f3-95d2-d413aca64ae2",
   "metadata": {},
   "outputs": [
    {
     "name": "stdout",
     "output_type": "stream",
     "text": [
      "root\n",
      " |-- member_id: string (nullable = true)\n",
      " |-- delinq_2yrs: float (nullable = true)\n",
      " |-- delinq_amnt: float (nullable = true)\n",
      " |-- pub_rec: float (nullable = true)\n",
      " |-- pub_rec_bankruptcies: float (nullable = true)\n",
      " |-- inq_last_6mths: float (nullable = true)\n",
      " |-- total_rec_late_fee: float (nullable = true)\n",
      " |-- mths_since_last_delinq: float (nullable = true)\n",
      " |-- mths_since_last_record: float (nullable = true)\n",
      "\n"
     ]
    }
   ],
   "source": [
    "df.printSchema()"
   ]
  },
  {
   "cell_type": "code",
   "execution_count": null,
   "id": "4467efb1-2dae-480a-ae48-94745e73fecc",
   "metadata": {},
   "outputs": [],
   "source": []
  },
  {
   "cell_type": "code",
   "execution_count": null,
   "id": "1542fd2b-4757-41d7-b09e-dfec04f61173",
   "metadata": {},
   "outputs": [],
   "source": []
  },
  {
   "cell_type": "code",
   "execution_count": 6,
   "id": "410e0298-5ec0-4762-8598-8f2909831be3",
   "metadata": {},
   "outputs": [
    {
     "name": "stderr",
     "output_type": "stream",
     "text": [
      "                                                                                \r"
     ]
    },
    {
     "data": {
      "text/plain": [
       "868845"
      ]
     },
     "execution_count": 6,
     "metadata": {},
     "output_type": "execute_result"
    }
   ],
   "source": [
    "df.count()"
   ]
  },
  {
   "cell_type": "code",
   "execution_count": 7,
   "id": "1c851e53-95b1-47f3-aa26-b27736a9979c",
   "metadata": {},
   "outputs": [],
   "source": [
    "df = df.withColumn(\"delinq_2yrs\",col(\"delinq_2yrs\").cast(\"int\")).fillna(0,subset = [\"delinq_2yrs\"])"
   ]
  },
  {
   "cell_type": "code",
   "execution_count": 8,
   "id": "428e17cf-3299-4a17-bc30-0b38c797148a",
   "metadata": {},
   "outputs": [],
   "source": [
    "df.createOrReplaceTempView(\"def\")"
   ]
  },
  {
   "cell_type": "code",
   "execution_count": 9,
   "id": "2c28854d-a043-4238-b0af-8ff12af077a5",
   "metadata": {},
   "outputs": [],
   "source": [
    "default_enquiry= spark.sql(\"select member_id from def where pub_rec>0 or pub_rec_bankruptcies>0 or inq_last_6mths>0\")"
   ]
  },
  {
   "cell_type": "code",
   "execution_count": 10,
   "id": "39dd15ad-def7-44dd-a5ed-62647da17a71",
   "metadata": {},
   "outputs": [
    {
     "name": "stderr",
     "output_type": "stream",
     "text": [
      "                                                                                \r"
     ]
    },
    {
     "data": {
      "text/plain": [
       "395669"
      ]
     },
     "execution_count": 10,
     "metadata": {},
     "output_type": "execute_result"
    }
   ],
   "source": [
    "default_enquiry.count()"
   ]
  },
  {
   "cell_type": "code",
   "execution_count": 11,
   "id": "be86c395-9cf5-4464-90ae-a480cc4c96cd",
   "metadata": {},
   "outputs": [],
   "source": [
    "defaulters= spark.sql(\"select member_id,delinq_2yrs,delinq_amnt,int(mths_since_last_delinq) from def where delinq_2yrs>0 or delinq_amnt>0 or mths_since_last_delinq>0\") "
   ]
  },
  {
   "cell_type": "code",
   "execution_count": 12,
   "id": "f253357c-a5e1-49f4-ab80-fe0837e58fe3",
   "metadata": {},
   "outputs": [
    {
     "name": "stdout",
     "output_type": "stream",
     "text": [
      "root\n",
      " |-- member_id: string (nullable = true)\n",
      " |-- delinq_2yrs: integer (nullable = true)\n",
      " |-- delinq_amnt: float (nullable = true)\n",
      " |-- mths_since_last_delinq: integer (nullable = true)\n",
      "\n"
     ]
    }
   ],
   "source": [
    "defaulters.printSchema()"
   ]
  },
  {
   "cell_type": "code",
   "execution_count": 13,
   "id": "517d1b7c-a93d-4c40-90c5-2b5237cd1e7e",
   "metadata": {},
   "outputs": [
    {
     "name": "stderr",
     "output_type": "stream",
     "text": [
      "                                                                                \r"
     ]
    }
   ],
   "source": [
    "defaulters.write.format(\"parquet\").mode(\"overwrite\").option(\"path\",\"/home/tushar/Documents/project/cleaned_defaulters/parquet\").save()"
   ]
  },
  {
   "cell_type": "code",
   "execution_count": 14,
   "id": "c7a1ba07-81b3-4cd9-97b7-2f325690c3f9",
   "metadata": {},
   "outputs": [
    {
     "name": "stderr",
     "output_type": "stream",
     "text": [
      "                                                                                \r"
     ]
    }
   ],
   "source": [
    "defaulters.write.format(\"csv\").mode(\"overwrite\").option(\"path\",\"/home/tushar/Documents/project/cleaned_defaulters/csv\").save()"
   ]
  },
  {
   "cell_type": "code",
   "execution_count": 15,
   "id": "57d7ff65-d6f8-49a1-9dd0-c3beea40b6c6",
   "metadata": {},
   "outputs": [
    {
     "name": "stderr",
     "output_type": "stream",
     "text": [
      "                                                                                \r"
     ]
    }
   ],
   "source": [
    "default_enquiry.write.format(\"parquet\").mode(\"overwrite\").option(\"path\",\"/home/tushar/Documents/project/cleaned_enquiry_defaulters/parquet\").save()"
   ]
  },
  {
   "cell_type": "code",
   "execution_count": 16,
   "id": "a62c9649-b4e5-41fe-89ed-696e21bc3aad",
   "metadata": {},
   "outputs": [
    {
     "name": "stderr",
     "output_type": "stream",
     "text": [
      "                                                                                \r"
     ]
    }
   ],
   "source": [
    "default_enquiry.write.format(\"csv\").mode(\"overwrite\").option(\"path\",\"/home/tushar/Documents/project/cleaned_enquiry_defaulters/csv\").save()"
   ]
  },
  {
   "cell_type": "code",
   "execution_count": 17,
   "id": "efb58c29-2822-4325-b5dc-2222f3dd8255",
   "metadata": {},
   "outputs": [],
   "source": [
    "df = df.withColumn(\"pub_rec\",col(\"pub_rec\").cast(\"int\")).fillna(0,subset = [\"pub_rec\"])"
   ]
  },
  {
   "cell_type": "code",
   "execution_count": 18,
   "id": "9e51c1d1-c6f2-480e-b33e-c8d12e9e06c7",
   "metadata": {},
   "outputs": [],
   "source": [
    "df = df.withColumn(\"pub_rec_bankruptcies\",col(\"pub_rec_bankruptcies\").cast(\"int\")).fillna(0,subset = [\"pub_rec_bankruptcies\"])"
   ]
  },
  {
   "cell_type": "code",
   "execution_count": 19,
   "id": "5e2b6a41-3a84-446a-ac8d-de2a29858efe",
   "metadata": {},
   "outputs": [],
   "source": [
    "df = df.withColumn(\"inq_last_6mths\",col(\"inq_last_6mths\").cast(\"int\")).fillna(0,subset = [\"inq_last_6mths\"])"
   ]
  },
  {
   "cell_type": "code",
   "execution_count": 20,
   "id": "d000de92-6e07-4ae3-9d7e-598a5c85590f",
   "metadata": {},
   "outputs": [],
   "source": [
    "df.createOrReplaceTempView(\"loan_def\")"
   ]
  },
  {
   "cell_type": "code",
   "execution_count": 21,
   "id": "07ea1c1c-5e08-4968-afba-1c28fbf1f8a7",
   "metadata": {},
   "outputs": [],
   "source": [
    "default_enquiry_detail = spark.sql(\"select member_id,pub_rec,pub_rec_bankruptcies,inq_last_6mths from loan_def \")"
   ]
  },
  {
   "cell_type": "code",
   "execution_count": null,
   "id": "ee03be13-892a-4a50-8c8e-21c9bc8665e2",
   "metadata": {},
   "outputs": [],
   "source": []
  },
  {
   "cell_type": "code",
   "execution_count": null,
   "id": "6c39349f-f59c-4fb1-b3d6-89ea42a8ef50",
   "metadata": {},
   "outputs": [],
   "source": []
  },
  {
   "cell_type": "code",
   "execution_count": 22,
   "id": "9a9e3bf4-5a22-4b1b-b31f-968a00cb00a2",
   "metadata": {},
   "outputs": [
    {
     "name": "stderr",
     "output_type": "stream",
     "text": [
      "                                                                                \r"
     ]
    }
   ],
   "source": [
    "default_enquiry_detail.write.format(\"parquet\").mode(\"overwrite\").option(\"path\",\"/home/tushar/Documents/project/cleaned_def_enq_detail/parquet\").save()"
   ]
  },
  {
   "cell_type": "code",
   "execution_count": null,
   "id": "dd67cf25-f016-4503-ba70-a5a78a6a7565",
   "metadata": {},
   "outputs": [],
   "source": [
    "default_enquiry_detail.write.format(\"csv\").mode(\"overwrite\").option(\"path\",\"/home/tushar/Documents/project/cleaned_def_enq_detail/csv\").save()"
   ]
  },
  {
   "cell_type": "code",
   "execution_count": null,
   "id": "9c9f6b65-55a0-4c8b-a3bb-ac5c5f156b83",
   "metadata": {},
   "outputs": [],
   "source": []
  }
 ],
 "metadata": {
  "kernelspec": {
   "display_name": "Python 3 (ipykernel)",
   "language": "python",
   "name": "python3"
  },
  "language_info": {
   "codemirror_mode": {
    "name": "ipython",
    "version": 3
   },
   "file_extension": ".py",
   "mimetype": "text/x-python",
   "name": "python",
   "nbconvert_exporter": "python",
   "pygments_lexer": "ipython3",
   "version": "3.10.12"
  }
 },
 "nbformat": 4,
 "nbformat_minor": 5
}
