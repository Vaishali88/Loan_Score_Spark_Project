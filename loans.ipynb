{
 "cells": [
  {
   "cell_type": "code",
   "execution_count": 1,
   "id": "bf70bbad-7abf-446f-954c-31ee39bb2074",
   "metadata": {},
   "outputs": [],
   "source": [
    "from pyspark.sql import SparkSession\n",
    "from pyspark.sql.functions import *"
   ]
  },
  {
   "cell_type": "code",
   "execution_count": 2,
   "id": "73631f15-12c2-4838-b7dc-4c32d12dfb06",
   "metadata": {},
   "outputs": [
    {
     "name": "stderr",
     "output_type": "stream",
     "text": [
      "Warning: Ignoring non-Spark config property: spark\n",
      "Setting default log level to \"WARN\".\n",
      "To adjust logging level use sc.setLogLevel(newLevel). For SparkR, use setLogLevel(newLevel).\n",
      "24/03/19 17:26:13 WARN Utils: Service 'SparkUI' could not bind on port 4040. Attempting port 4041.\n",
      "24/03/19 17:26:13 WARN Utils: Service 'SparkUI' could not bind on port 4041. Attempting port 4042.\n"
     ]
    }
   ],
   "source": [
    "spark = SparkSession.builder.appName(\"loans\") \\\n",
    ".master(\"spark://10.208.36.84:7077\") \\\n",
    ".config(\"spark.hadoop.defaultFS\",\"hdfs://10.208.36.84:9000\") \\\n",
    ".config(\"spark.executor.cores\",2) \\\n",
    ".config(\"spark.executor.memory\",\"4g\") \\\n",
    ".config(\"spark.cores.max\",\"8\") \\\n",
    ".getOrCreate()\n"
   ]
  },
  {
   "cell_type": "code",
   "execution_count": 3,
   "id": "b7ebca38-753a-4139-a698-6869e247a182",
   "metadata": {},
   "outputs": [
    {
     "name": "stderr",
     "output_type": "stream",
     "text": [
      "                                                                                \r"
     ]
    }
   ],
   "source": [
    "loans_df = spark.read.format(\"csv\") \\\n",
    ".option(\"inferSchema\",\"true\") \\\n",
    ".option(\"header\",\"true\") \\\n",
    ".load(\"/home/tushar/Documents/project/loans_data_raw\")"
   ]
  },
  {
   "cell_type": "code",
   "execution_count": 4,
   "id": "dad6f9e1-7361-454a-826e-d9af80adade0",
   "metadata": {},
   "outputs": [
    {
     "name": "stdout",
     "output_type": "stream",
     "text": [
      "root\n",
      " |-- loan_id: string (nullable = true)\n",
      " |-- member_id: string (nullable = true)\n",
      " |-- loan_amnt: double (nullable = true)\n",
      " |-- funded_amnt: double (nullable = true)\n",
      " |-- term: string (nullable = true)\n",
      " |-- int_rate: double (nullable = true)\n",
      " |-- installment: double (nullable = true)\n",
      " |-- issue_d: string (nullable = true)\n",
      " |-- loan_status: string (nullable = true)\n",
      " |-- purpose: string (nullable = true)\n",
      " |-- title: string (nullable = true)\n",
      "\n"
     ]
    }
   ],
   "source": [
    "loans_df.printSchema()"
   ]
  },
  {
   "cell_type": "code",
   "execution_count": 5,
   "id": "060f8537-08b4-4243-9803-0cacf2b6df79",
   "metadata": {},
   "outputs": [],
   "source": [
    "loans_df = loans_df.withColumnRenamed(\"loan_amt\",\"loan_amount\") \\\n",
    ".withColumnRenamed(\"funded_amnt\",\"funded_amount\") \\\n",
    ".withColumnRenamed(\"term\",\"loan_term_months\") \\\n",
    ".withColumnRenamed(\"int_rate\",\"interest_rate\") \\\n",
    ".withColumnRenamed(\"issue_d\",\"issue_date\") \\\n",
    ".withColumnRenamed(\"purpose\",\"loan_purpose\") \\\n",
    ".withColumnRenamed(\"title\",\"loan_title\") \\\n",
    ".withColumnRenamed(\"loan_amnt\",\"loan_amount\")"
   ]
  },
  {
   "cell_type": "code",
   "execution_count": 6,
   "id": "338c7173-e23c-4471-9a47-83121fbcd8b4",
   "metadata": {},
   "outputs": [
    {
     "name": "stdout",
     "output_type": "stream",
     "text": [
      "root\n",
      " |-- loan_id: string (nullable = true)\n",
      " |-- member_id: string (nullable = true)\n",
      " |-- loan_amount: double (nullable = true)\n",
      " |-- funded_amount: double (nullable = true)\n",
      " |-- loan_term_months: string (nullable = true)\n",
      " |-- interest_rate: double (nullable = true)\n",
      " |-- installment: double (nullable = true)\n",
      " |-- issue_date: string (nullable = true)\n",
      " |-- loan_status: string (nullable = true)\n",
      " |-- loan_purpose: string (nullable = true)\n",
      " |-- loan_title: string (nullable = true)\n",
      "\n"
     ]
    }
   ],
   "source": [
    "loans_df.printSchema()"
   ]
  },
  {
   "cell_type": "code",
   "execution_count": 7,
   "id": "477a9bce-2086-454e-81e4-74cd31e9cf3a",
   "metadata": {},
   "outputs": [],
   "source": [
    "loans_df = loans_df.withColumn(\"loan_amount\",col(\"loan_amount\").cast(\"float\"))"
   ]
  },
  {
   "cell_type": "code",
   "execution_count": 8,
   "id": "6b848278-1c6d-4be7-960a-7d363707483a",
   "metadata": {},
   "outputs": [
    {
     "name": "stdout",
     "output_type": "stream",
     "text": [
      "root\n",
      " |-- loan_id: string (nullable = true)\n",
      " |-- member_id: string (nullable = true)\n",
      " |-- loan_amount: float (nullable = true)\n",
      " |-- funded_amount: double (nullable = true)\n",
      " |-- loan_term_months: string (nullable = true)\n",
      " |-- interest_rate: double (nullable = true)\n",
      " |-- installment: double (nullable = true)\n",
      " |-- issue_date: string (nullable = true)\n",
      " |-- loan_status: string (nullable = true)\n",
      " |-- loan_purpose: string (nullable = true)\n",
      " |-- loan_title: string (nullable = true)\n",
      "\n"
     ]
    }
   ],
   "source": [
    "loans_df.printSchema()"
   ]
  },
  {
   "cell_type": "code",
   "execution_count": 9,
   "id": "3f13d3b3-74dc-48cf-8cfc-c0da4105cc57",
   "metadata": {},
   "outputs": [],
   "source": [
    "loans_df = loans_df.withColumn(\"funded_amount\",col(\"funded_amount\").cast(\"float\")) \\\n",
    ".withColumn(\"interest_rate\",col(\"interest_rate\").cast(\"float\")) \\\n",
    ".withColumn(\"installment\",col(\"installment\").cast(\"float\"))"
   ]
  },
  {
   "cell_type": "code",
   "execution_count": 10,
   "id": "9e700ca0-1c09-4a5c-8ff9-ffa26bc46cb5",
   "metadata": {},
   "outputs": [
    {
     "name": "stdout",
     "output_type": "stream",
     "text": [
      "root\n",
      " |-- loan_id: string (nullable = true)\n",
      " |-- member_id: string (nullable = true)\n",
      " |-- loan_amount: float (nullable = true)\n",
      " |-- funded_amount: float (nullable = true)\n",
      " |-- loan_term_months: string (nullable = true)\n",
      " |-- interest_rate: float (nullable = true)\n",
      " |-- installment: float (nullable = true)\n",
      " |-- issue_date: string (nullable = true)\n",
      " |-- loan_status: string (nullable = true)\n",
      " |-- loan_purpose: string (nullable = true)\n",
      " |-- loan_title: string (nullable = true)\n",
      "\n"
     ]
    }
   ],
   "source": [
    "loans_df.printSchema()"
   ]
  },
  {
   "cell_type": "code",
   "execution_count": 11,
   "id": "b119a91c-3b8c-4677-a7eb-7003c1ccd0e6",
   "metadata": {},
   "outputs": [],
   "source": [
    "loans_df = loans_df.withColumnRenamed(\"installment\",\"monthly_installemnt\") "
   ]
  },
  {
   "cell_type": "code",
   "execution_count": 12,
   "id": "1cf55d7c-b768-4c72-af1a-f287028964b7",
   "metadata": {},
   "outputs": [],
   "source": [
    "loans_df = loans_df.withColumn(\"ingest_data\" , current_timestamp())"
   ]
  },
  {
   "cell_type": "code",
   "execution_count": 13,
   "id": "7d7e5f4a-eea1-4267-aae7-3777127c36ab",
   "metadata": {},
   "outputs": [],
   "source": [
    "loans_df.createOrReplaceTempView('loans')"
   ]
  },
  {
   "cell_type": "code",
   "execution_count": 14,
   "id": "77d556be-8e40-4952-a441-f65c97491499",
   "metadata": {},
   "outputs": [
    {
     "name": "stdout",
     "output_type": "stream",
     "text": [
      "+--------+\n",
      "|count(1)|\n",
      "+--------+\n",
      "|  868845|\n",
      "+--------+\n",
      "\n"
     ]
    }
   ],
   "source": [
    "spark.sql(\"select count(*) from loans\").show()"
   ]
  },
  {
   "cell_type": "code",
   "execution_count": 15,
   "id": "1c3f68a6-ace6-4b65-8ebe-95976a65d0f3",
   "metadata": {},
   "outputs": [],
   "source": [
    "check_columns = ['loan_amount','funded_amount','loan_term_months','interest_rate','monthly_installemnt','issue_date','loan_status','loan_purpose']                   "
   ]
  },
  {
   "cell_type": "code",
   "execution_count": 16,
   "id": "d92daa15-a8a6-459c-bb06-5706576d2811",
   "metadata": {},
   "outputs": [],
   "source": [
    "loans = loans_df.na.drop(\"any\",subset=check_columns)"
   ]
  },
  {
   "cell_type": "code",
   "execution_count": 17,
   "id": "3ca5b54d-fa05-4a46-9a84-e01c1e751e67",
   "metadata": {},
   "outputs": [
    {
     "name": "stderr",
     "output_type": "stream",
     "text": [
      "                                                                                \r"
     ]
    },
    {
     "data": {
      "text/plain": [
       "868836"
      ]
     },
     "execution_count": 17,
     "metadata": {},
     "output_type": "execute_result"
    }
   ],
   "source": [
    "loans.count()"
   ]
  },
  {
   "cell_type": "code",
   "execution_count": 18,
   "id": "c5d7e75f-d52b-4beb-9877-c60cf75cbe19",
   "metadata": {},
   "outputs": [],
   "source": [
    "loans.createOrReplaceTempView('cloans')"
   ]
  },
  {
   "cell_type": "code",
   "execution_count": 19,
   "id": "a7e92f81-9c8a-44fa-b20c-4b7221139ff2",
   "metadata": {},
   "outputs": [
    {
     "name": "stdout",
     "output_type": "stream",
     "text": [
      "+--------+--------------------+-----------+-------------+----------------+-------------+-------------------+----------+-----------+------------------+--------------------+--------------------+\n",
      "| loan_id|           member_id|loan_amount|funded_amount|loan_term_months|interest_rate|monthly_installemnt|issue_date|loan_status|      loan_purpose|          loan_title|         ingest_data|\n",
      "+--------+--------------------+-----------+-------------+----------------+-------------+-------------------+----------+-----------+------------------+--------------------+--------------------+\n",
      "|57267443|48e96acef66a1b3aa...|    15000.0|      15000.0|       36 months|        19.99|             557.38|  Aug-2015| Fully Paid|debt_consolidation|  Debt consolidation|2024-03-19 17:26:...|\n",
      "|57186326|a26f0e7701a6ab87d...|     6000.0|       6000.0|       36 months|         6.89|             184.97|  Aug-2015| Fully Paid|debt_consolidation|  Debt consolidation|2024-03-19 17:26:...|\n",
      "|57044889|eeb80dce9907d9aa4...|     9625.0|       9625.0|       36 months|         8.18|             302.42|  Aug-2015|Charged Off|       credit_card|Credit card refin...|2024-03-19 17:26:...|\n",
      "|57256669|7402edb6f0ddc36f9...|    10275.0|      10275.0|       36 months|        12.29|             342.71|  Aug-2015| Fully Paid|debt_consolidation|  Debt consolidation|2024-03-19 17:26:...|\n",
      "|57206665|e01ab149a9a148d65...|    16000.0|      16000.0|       60 months|        18.25|             408.48|  Aug-2015| Fully Paid|           medical|    Medical expenses|2024-03-19 17:26:...|\n",
      "|57014308|40f90b73b901d4409...|    32000.0|      32000.0|       60 months|         9.99|             679.75|  Aug-2015|    Current|debt_consolidation|  Debt consolidation|2024-03-19 17:26:...|\n",
      "|57004643|96600ee521db9560d...|    18000.0|      18000.0|       60 months|        19.99|             476.79|  Aug-2015|Charged Off|debt_consolidation|  Debt consolidation|2024-03-19 17:26:...|\n",
      "|57247249|603d52eee7a658910...|    20000.0|      20000.0|       36 months|        13.33|             677.07|  Aug-2015| Fully Paid|debt_consolidation|  Debt consolidation|2024-03-19 17:26:...|\n",
      "|57236734|985f379c5a65583bf...|    29550.0|      29550.0|       36 months|        18.55|            1076.48|  Aug-2015| Fully Paid|debt_consolidation|  Debt consolidation|2024-03-19 17:26:...|\n",
      "|57307552|005bb3c40d7cf116d...|    35000.0|      35000.0|       36 months|         8.18|            1099.69|  Aug-2015|Charged Off|       credit_card|Credit card refin...|2024-03-19 17:26:...|\n",
      "+--------+--------------------+-----------+-------------+----------------+-------------+-------------------+----------+-----------+------------------+--------------------+--------------------+\n",
      "\n"
     ]
    }
   ],
   "source": [
    "spark.sql(\"select * from cloans limit 10\").show()"
   ]
  },
  {
   "cell_type": "code",
   "execution_count": 20,
   "id": "4f939641-6b38-46ec-8a61-2b9edd05a309",
   "metadata": {},
   "outputs": [],
   "source": [
    "loans = loans.withColumn(\"loan_term_months\",(regexp_replace(col(\"loan_term_months\"),\" months\",\"\") \\\n",
    "                        .cast('int') / 12).cast('int')) \\\n",
    ".withColumnRenamed(\"loan_term_months\",\"loan_term_years\")"
   ]
  },
  {
   "cell_type": "code",
   "execution_count": 21,
   "id": "3de5f2ef-9462-44ca-a58b-8ae10ca4df40",
   "metadata": {},
   "outputs": [
    {
     "name": "stdout",
     "output_type": "stream",
     "text": [
      "+--------+--------------------+-----------+-------------+---------------+-------------+-------------------+----------+-----------+------------------+--------------------+--------------------+\n",
      "| loan_id|           member_id|loan_amount|funded_amount|loan_term_years|interest_rate|monthly_installemnt|issue_date|loan_status|      loan_purpose|          loan_title|         ingest_data|\n",
      "+--------+--------------------+-----------+-------------+---------------+-------------+-------------------+----------+-----------+------------------+--------------------+--------------------+\n",
      "|57267443|48e96acef66a1b3aa...|    15000.0|      15000.0|              3|        19.99|             557.38|  Aug-2015| Fully Paid|debt_consolidation|  Debt consolidation|2024-03-19 17:26:...|\n",
      "|57186326|a26f0e7701a6ab87d...|     6000.0|       6000.0|              3|         6.89|             184.97|  Aug-2015| Fully Paid|debt_consolidation|  Debt consolidation|2024-03-19 17:26:...|\n",
      "|57044889|eeb80dce9907d9aa4...|     9625.0|       9625.0|              3|         8.18|             302.42|  Aug-2015|Charged Off|       credit_card|Credit card refin...|2024-03-19 17:26:...|\n",
      "|57256669|7402edb6f0ddc36f9...|    10275.0|      10275.0|              3|        12.29|             342.71|  Aug-2015| Fully Paid|debt_consolidation|  Debt consolidation|2024-03-19 17:26:...|\n",
      "|57206665|e01ab149a9a148d65...|    16000.0|      16000.0|              5|        18.25|             408.48|  Aug-2015| Fully Paid|           medical|    Medical expenses|2024-03-19 17:26:...|\n",
      "|57014308|40f90b73b901d4409...|    32000.0|      32000.0|              5|         9.99|             679.75|  Aug-2015|    Current|debt_consolidation|  Debt consolidation|2024-03-19 17:26:...|\n",
      "|57004643|96600ee521db9560d...|    18000.0|      18000.0|              5|        19.99|             476.79|  Aug-2015|Charged Off|debt_consolidation|  Debt consolidation|2024-03-19 17:26:...|\n",
      "|57247249|603d52eee7a658910...|    20000.0|      20000.0|              3|        13.33|             677.07|  Aug-2015| Fully Paid|debt_consolidation|  Debt consolidation|2024-03-19 17:26:...|\n",
      "|57236734|985f379c5a65583bf...|    29550.0|      29550.0|              3|        18.55|            1076.48|  Aug-2015| Fully Paid|debt_consolidation|  Debt consolidation|2024-03-19 17:26:...|\n",
      "|57307552|005bb3c40d7cf116d...|    35000.0|      35000.0|              3|         8.18|            1099.69|  Aug-2015|Charged Off|       credit_card|Credit card refin...|2024-03-19 17:26:...|\n",
      "|56874968|c5816e78c25d6b6ad...|    25000.0|      25000.0|              3|         6.89|             770.68|  Aug-2015| Fully Paid|debt_consolidation|  Debt consolidation|2024-03-19 17:26:...|\n",
      "|57286005|8e582a7286c763c94...|    12000.0|      12000.0|              3|         6.24|             366.37|  Aug-2015| Fully Paid|       credit_card|Credit card refin...|2024-03-19 17:26:...|\n",
      "|57327190|dba24d2a7e49b160f...|    20000.0|      20000.0|              3|         8.18|             628.39|  Aug-2015| Fully Paid|debt_consolidation|  Debt consolidation|2024-03-19 17:26:...|\n",
      "|57256384|9f01942ec481d6a7c...|    21000.0|      21000.0|              5|        18.25|             536.13|  Aug-2015|Charged Off|debt_consolidation|  Debt consolidation|2024-03-19 17:26:...|\n",
      "|57327159|17be387404072c211...|    18000.0|      18000.0|              5|        18.55|             462.49|  Aug-2015| Fully Paid|               car|       Car financing|2024-03-19 17:26:...|\n",
      "|55949307|af2240a261ddb0d3b...|    35000.0|      35000.0|              5|        13.33|             802.29|  Aug-2015|    Current|debt_consolidation|  Debt consolidation|2024-03-19 17:26:...|\n",
      "|57175815|9d069381e5d939963...|    10000.0|      10000.0|              3|        12.29|             333.53|  Aug-2015|Charged Off|debt_consolidation|  Debt consolidation|2024-03-19 17:26:...|\n",
      "|55911073|2555c8d83580c7787...|    10000.0|      10000.0|              3|        15.61|             349.65|  Aug-2015| Fully Paid|debt_consolidation|  Debt consolidation|2024-03-19 17:26:...|\n",
      "|57186788|a1baf2dbf86edd383...|    20400.0|      20400.0|              5|        12.29|             456.79|  Aug-2015| Fully Paid|             other|               Other|2024-03-19 17:26:...|\n",
      "|57146719|a3ec0c27c93fc555e...|    15000.0|      15000.0|              3|         9.17|             478.19|  Aug-2015| Fully Paid|       credit_card|Credit card refin...|2024-03-19 17:26:...|\n",
      "+--------+--------------------+-----------+-------------+---------------+-------------+-------------------+----------+-----------+------------------+--------------------+--------------------+\n",
      "only showing top 20 rows\n",
      "\n"
     ]
    }
   ],
   "source": [
    "loans.show()"
   ]
  },
  {
   "cell_type": "code",
   "execution_count": 22,
   "id": "247c9d41-f23d-473b-94c8-7ab3a45b3148",
   "metadata": {},
   "outputs": [
    {
     "name": "stderr",
     "output_type": "stream",
     "text": [
      "[Stage 10:======================================>                   (4 + 2) / 6]\r"
     ]
    },
    {
     "name": "stdout",
     "output_type": "stream",
     "text": [
      "+--------------------+--------+\n",
      "|        loan_purpose|count(1)|\n",
      "+--------------------+--------+\n",
      "|  debt_consolidation|  494400|\n",
      "|         credit_card|  203469|\n",
      "|    home_improvement|   57943|\n",
      "|               other|   50978|\n",
      "|      major_purchase|   18519|\n",
      "|             medical|   10215|\n",
      "|                 car|    8428|\n",
      "|      small_business|    7979|\n",
      "|              moving|    5785|\n",
      "|            vacation|    5752|\n",
      "|               house|    4876|\n",
      "|    renewable_energy|     481|\n",
      "|             wedding|       9|\n",
      "|and also pay off ...|       1|\n",
      "|         educational|       1|\n",
      "+--------------------+--------+\n",
      "\n"
     ]
    },
    {
     "name": "stderr",
     "output_type": "stream",
     "text": [
      "                                                                                \r"
     ]
    }
   ],
   "source": [
    "spark.sql(\"select loan_purpose,count(*) from cloans group by loan_purpose order by count(*) desc\").show()"
   ]
  },
  {
   "cell_type": "code",
   "execution_count": 23,
   "id": "ecc30dc2-bd37-4140-afe8-880ead3494b5",
   "metadata": {},
   "outputs": [],
   "source": [
    "loan_purpose_list = ['debt_consolidation','credit_card','home_improvement','other','major_purchase','medical','car','small_business','moving','vacation','house','renewable_energy','wedding','educational']               "
   ]
  },
  {
   "cell_type": "code",
   "execution_count": 24,
   "id": "544004d2-e9f2-40f7-8914-92378288d07d",
   "metadata": {},
   "outputs": [],
   "source": [
    "loans = loans.withColumn('loan_purpose',when(col('loan_purpose').isin(loan_purpose_list) ,col('loan_purpose')) \\\n",
    ".otherwise(\"other\"))"
   ]
  },
  {
   "cell_type": "code",
   "execution_count": 25,
   "id": "6066bf8a-1c73-4409-8bab-9904c4d40bfd",
   "metadata": {},
   "outputs": [],
   "source": [
    "loans.createOrReplaceTempView(\"llons\")"
   ]
  },
  {
   "cell_type": "code",
   "execution_count": 26,
   "id": "fc9f1331-4f2e-4030-84e8-8d046683f4fc",
   "metadata": {},
   "outputs": [
    {
     "name": "stderr",
     "output_type": "stream",
     "text": [
      "[Stage 13:=========>                                                (1 + 5) / 6]\r"
     ]
    },
    {
     "name": "stdout",
     "output_type": "stream",
     "text": [
      "+------------+--------+\n",
      "|loan_purpose|count(1)|\n",
      "+------------+--------+\n",
      "| educational|       1|\n",
      "+------------+--------+\n",
      "\n"
     ]
    },
    {
     "name": "stderr",
     "output_type": "stream",
     "text": [
      "                                                                                \r"
     ]
    }
   ],
   "source": [
    "spark.sql(\"select loan_purpose,count(*) from llons group by loan_purpose having count(*)=1 \").show()"
   ]
  },
  {
   "cell_type": "code",
   "execution_count": 27,
   "id": "3bc83d09-607c-4efb-a40e-4bdd3bd9f4f1",
   "metadata": {},
   "outputs": [
    {
     "name": "stderr",
     "output_type": "stream",
     "text": [
      "[Stage 16:>                                                         (0 + 6) / 6]\r"
     ]
    },
    {
     "name": "stdout",
     "output_type": "stream",
     "text": [
      "+------------------+-------------------+\n",
      "|      loan_purpose|count(loan_purpose)|\n",
      "+------------------+-------------------+\n",
      "|           wedding|                  9|\n",
      "|             other|              50979|\n",
      "|    small_business|               7979|\n",
      "|debt_consolidation|             494400|\n",
      "|       credit_card|             203469|\n",
      "|            moving|               5785|\n",
      "|          vacation|               5752|\n",
      "|  renewable_energy|                481|\n",
      "|             house|               4876|\n",
      "|               car|               8428|\n",
      "|    major_purchase|              18519|\n",
      "|           medical|              10215|\n",
      "|  home_improvement|              57943|\n",
      "|       educational|                  1|\n",
      "+------------------+-------------------+\n",
      "\n"
     ]
    },
    {
     "name": "stderr",
     "output_type": "stream",
     "text": [
      "                                                                                \r"
     ]
    }
   ],
   "source": [
    "loans.groupby('loan_purpose').agg(count(col('loan_purpose'))).show()"
   ]
  },
  {
   "cell_type": "code",
   "execution_count": 28,
   "id": "4b5c68e2-b4b1-4728-a42d-fda6f8a2ca9c",
   "metadata": {},
   "outputs": [
    {
     "name": "stderr",
     "output_type": "stream",
     "text": [
      "                                                                                \r"
     ]
    }
   ],
   "source": [
    "loans.write.format(\"parquet\").mode(\"overwrite\").option(\"path\",\"/home/tushar/Documents/project/cleaned_loans/parquet\").save()"
   ]
  },
  {
   "cell_type": "code",
   "execution_count": 29,
   "id": "660566b4-c259-48b2-b128-b5f9573c7ba1",
   "metadata": {},
   "outputs": [
    {
     "name": "stderr",
     "output_type": "stream",
     "text": [
      "                                                                                \r"
     ]
    }
   ],
   "source": [
    "loans.write.format(\"csv\").mode(\"overwrite\").option(\"path\",\"/home/tushar/Documents/project/cleaned_loans/csv\").save()"
   ]
  },
  {
   "cell_type": "code",
   "execution_count": null,
   "id": "8f5e3b60-0f52-49d7-88c2-cc70fa7838df",
   "metadata": {},
   "outputs": [],
   "source": []
  }
 ],
 "metadata": {
  "kernelspec": {
   "display_name": "spark",
   "language": "python",
   "name": "spark"
  },
  "language_info": {
   "codemirror_mode": {
    "name": "ipython",
    "version": 3
   },
   "file_extension": ".py",
   "mimetype": "text/x-python",
   "name": "python",
   "nbconvert_exporter": "python",
   "pygments_lexer": "ipython3",
   "version": "3.10.12"
  }
 },
 "nbformat": 4,
 "nbformat_minor": 5
}
