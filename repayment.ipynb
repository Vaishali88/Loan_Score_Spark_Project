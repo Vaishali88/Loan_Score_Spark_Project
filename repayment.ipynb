{
 "cells": [
  {
   "cell_type": "code",
   "execution_count": 1,
   "id": "5d8cc7ff-3aae-4a24-a618-2c5caf9f7355",
   "metadata": {},
   "outputs": [],
   "source": [
    "from pyspark.sql import SparkSession"
   ]
  },
  {
   "cell_type": "code",
   "execution_count": 2,
   "id": "eba864b5-41e0-4ae2-96f3-c989773b5526",
   "metadata": {},
   "outputs": [
    {
     "name": "stderr",
     "output_type": "stream",
     "text": [
      "Warning: Ignoring non-Spark config property: spark\n",
      "Setting default log level to \"WARN\".\n",
      "To adjust logging level use sc.setLogLevel(newLevel). For SparkR, use setLogLevel(newLevel).\n",
      "24/03/21 11:44:52 WARN Utils: Service 'SparkUI' could not bind on port 4040. Attempting port 4041.\n"
     ]
    }
   ],
   "source": [
    "spark = SparkSession.builder.appName(\"loans\") \\\n",
    ".master(\"spark://10.208.36.84:7077\") \\\n",
    ".config(\"spark.hadoop.defaultFS\",\"hdfs://10.208.36.84:9000\") \\\n",
    ".config(\"spark.executor.cores\",2) \\\n",
    ".config(\"spark.executor.memory\",\"4g\") \\\n",
    ".config(\"spark.cores.max\",\"8\") \\\n",
    ".getOrCreate()\n"
   ]
  },
  {
   "cell_type": "code",
   "execution_count": 3,
   "id": "c23e3cf7-9ea3-4bd1-aa23-906a14eb4a18",
   "metadata": {},
   "outputs": [],
   "source": [
    "loschema = \"loan_id string, total_principal_received float, total_interest_received float, total_late_fee_received float, total_payment_received float, last_payment_amount float, last_payment_date string, next_payment_date string,ingest_date date\"\n"
   ]
  },
  {
   "cell_type": "code",
   "execution_count": 4,
   "id": "dc38da35-e2fd-47f5-957f-aeb0612b3570",
   "metadata": {},
   "outputs": [],
   "source": [
    "df = spark.read.format(\"csv\").option(\"header\",\"true\") \\\n",
    ".schema(loschema)\\\n",
    ".load(\"/home/tushar/Documents/project/loans_repayment_raw\")"
   ]
  },
  {
   "cell_type": "code",
   "execution_count": 5,
   "id": "172e50a2-f959-444a-9ff1-5071c4c4effc",
   "metadata": {},
   "outputs": [
    {
     "name": "stdout",
     "output_type": "stream",
     "text": [
      "root\n",
      " |-- loan_id: string (nullable = true)\n",
      " |-- total_principal_received: float (nullable = true)\n",
      " |-- total_interest_received: float (nullable = true)\n",
      " |-- total_late_fee_received: float (nullable = true)\n",
      " |-- total_payment_received: float (nullable = true)\n",
      " |-- last_payment_amount: float (nullable = true)\n",
      " |-- last_payment_date: string (nullable = true)\n",
      " |-- next_payment_date: string (nullable = true)\n",
      "\n"
     ]
    }
   ],
   "source": [
    "df.printSchema()"
   ]
  },
  {
   "cell_type": "code",
   "execution_count": 6,
   "id": "f2e8bafe-f5a8-438b-a44e-964cb5631895",
   "metadata": {},
   "outputs": [],
   "source": [
    "from pyspark.sql.functions import *"
   ]
  },
  {
   "cell_type": "code",
   "execution_count": 7,
   "id": "45065e0f-51ae-4256-bb2c-33efbb88d974",
   "metadata": {},
   "outputs": [],
   "source": [
    "df = df.withColumn(\"ingest_date\",current_timestamp())"
   ]
  },
  {
   "cell_type": "code",
   "execution_count": 8,
   "id": "1c399daa-ed96-4a83-8fe7-0fa347e5aaf6",
   "metadata": {},
   "outputs": [],
   "source": [
    "df.createOrReplaceTempView(\"repay\")"
   ]
  },
  {
   "cell_type": "code",
   "execution_count": 9,
   "id": "ad2e82ae-b9c4-43fa-acc5-bd7a20327773",
   "metadata": {},
   "outputs": [],
   "source": [
    "l = [\"total_principal_received\",\"total_interest_received\",\"total_late_fee_received\",\"total_payment_received\",\"last_payment_amount\"]"
   ]
  },
  {
   "cell_type": "code",
   "execution_count": 10,
   "id": "85854a06-f319-448c-851b-267f1100f3fc",
   "metadata": {},
   "outputs": [],
   "source": [
    "df = df.dropna(subset = l)"
   ]
  },
  {
   "cell_type": "code",
   "execution_count": 11,
   "id": "557d6753-d48c-4a0b-b995-aa3c671968d4",
   "metadata": {},
   "outputs": [
    {
     "name": "stderr",
     "output_type": "stream",
     "text": [
      "                                                                                \r"
     ]
    },
    {
     "data": {
      "text/plain": [
       "868835"
      ]
     },
     "execution_count": 11,
     "metadata": {},
     "output_type": "execute_result"
    }
   ],
   "source": [
    "df.count()"
   ]
  },
  {
   "cell_type": "code",
   "execution_count": 12,
   "id": "eacfa95e-2242-4bb2-be45-4d401fa2c99e",
   "metadata": {},
   "outputs": [],
   "source": [
    "df.createOrReplaceTempView(\"loanrepay\")"
   ]
  },
  {
   "cell_type": "code",
   "execution_count": 13,
   "id": "3e4fb69b-c2db-49b3-904f-c9823bf6f64d",
   "metadata": {},
   "outputs": [
    {
     "name": "stdout",
     "output_type": "stream",
     "text": [
      "+--------+------------------------+-----------------------+-----------------------+----------------------+-------------------+-----------------+-----------------+--------------------+\n",
      "| loan_id|total_principal_received|total_interest_received|total_late_fee_received|total_payment_received|last_payment_amount|last_payment_date|next_payment_date|         ingest_date|\n",
      "+--------+------------------------+-----------------------+-----------------------+----------------------+-------------------+-----------------+-----------------+--------------------+\n",
      "|68366599|                     0.0|                    0.0|                  43.27|               3638.63|              100.0|         Mar-2016|             null|2024-03-21 11:45:...|\n",
      "|68393736|                     0.0|                    0.0|                    0.0|                   0.0|                0.0|             null|             null|2024-03-21 11:45:...|\n",
      "|67255203|                     0.0|                    0.0|                    0.0|               1229.56|                0.0|             null|             null|2024-03-21 11:45:...|\n",
      "|68132560|                     0.0|                    0.0|                    0.0|               4459.86|                0.0|             null|             null|2024-03-21 11:45:...|\n",
      "|67789810|                     0.0|                    0.0|                    0.0|                   0.0|                0.0|             null|             null|2024-03-21 11:45:...|\n",
      "|67869980|                     0.0|                    0.0|                    0.0|               1938.76|                0.0|             null|             null|2024-03-21 11:45:...|\n",
      "|67216542|                     0.0|                    0.0|                    0.0|                   0.0|                0.0|             null|             null|2024-03-21 11:45:...|\n",
      "|67809429|                     0.0|                    0.0|                    0.0|               1096.77|                0.0|             null|             null|2024-03-21 11:45:...|\n",
      "|67848376|                     0.0|                    0.0|                    0.0|               3396.63|                0.0|             null|             null|2024-03-21 11:45:...|\n",
      "|67615364|                     0.0|                    0.0|                    0.0|               1961.38|                0.0|             null|             null|2024-03-21 11:45:...|\n",
      "|67448903|                     0.0|                    0.0|                    0.0|                738.56|                0.0|             null|             null|2024-03-21 11:45:...|\n",
      "|67298441|                     0.0|                    0.0|                    0.0|                183.74|                0.0|             null|             null|2024-03-21 11:45:...|\n",
      "|67337781|                     0.0|                    0.0|                    0.0|               1300.65|                0.0|             null|             null|2024-03-21 11:45:...|\n",
      "|66644843|                     0.0|                 286.84|                   15.0|               2067.14|             313.17|         Feb-2016|             null|2024-03-21 11:45:...|\n",
      "|67326541|                     0.0|                    0.0|                    0.0|                   0.0|                0.0|             null|             null|2024-03-21 11:45:...|\n",
      "|67446038|                     0.0|                    0.0|                    0.0|               4199.66|                0.0|             null|             null|2024-03-21 11:45:...|\n",
      "|67305840|                     0.0|                    0.0|                    0.0|                181.63|                0.0|             null|             null|2024-03-21 11:45:...|\n",
      "|66955316|                     0.0|                    0.0|                    0.0|                   0.0|                0.0|             null|             null|2024-03-21 11:45:...|\n",
      "|67135199|                     0.0|                    0.0|                    0.0|               2403.38|                0.0|             null|             null|2024-03-21 11:45:...|\n",
      "|66606172|                     0.0|                    0.0|                    0.0|               1751.17|                0.0|             null|             null|2024-03-21 11:45:...|\n",
      "+--------+------------------------+-----------------------+-----------------------+----------------------+-------------------+-----------------+-----------------+--------------------+\n",
      "only showing top 20 rows\n",
      "\n"
     ]
    }
   ],
   "source": [
    "spark.sql(\"select * from loanrepay where total_principal_received = 0.0 \").show()"
   ]
  },
  {
   "cell_type": "code",
   "execution_count": 29,
   "id": "0d433346-bf87-469f-8367-fed875c197aa",
   "metadata": {},
   "outputs": [
    {
     "data": {
      "text/plain": [
       "950"
      ]
     },
     "execution_count": 29,
     "metadata": {},
     "output_type": "execute_result"
    }
   ],
   "source": [
    "df.filter('total_principal_received = 0.0').count()"
   ]
  },
  {
   "cell_type": "code",
   "execution_count": 32,
   "id": "5e669a94-113c-4eb7-8058-e41cac10e84f",
   "metadata": {},
   "outputs": [
    {
     "name": "stdout",
     "output_type": "stream",
     "text": [
      "+--------+------------------------+-----------------------+-----------------------+----------------------+-------------------+-----------------+-----------------+--------------------+\n",
      "| loan_id|total_principal_received|total_interest_received|total_late_fee_received|total_payment_received|last_payment_amount|last_payment_date|next_payment_date|         ingest_date|\n",
      "+--------+------------------------+-----------------------+-----------------------+----------------------+-------------------+-----------------+-----------------+--------------------+\n",
      "|68407277|                  3600.0|                 821.72|                    0.0|              4421.724|             122.67|         Jan-2019|             null|2024-03-19 15:16:...|\n",
      "|68355089|                 24700.0|                 979.66|                    0.0|              25679.66|             926.35|         Jun-2016|             null|2024-03-19 15:16:...|\n",
      "|68341763|                 20000.0|                2705.92|                    0.0|             22705.924|            15813.3|         Jun-2017|             null|2024-03-19 15:16:...|\n",
      "|68476807|                 10400.0|                 1340.5|                    0.0|               11740.5|           10128.96|         Jul-2016|             null|2024-03-19 15:16:...|\n",
      "|68426831|                 11950.0|                1758.95|                    0.0|             13708.948|            7653.56|         May-2017|             null|2024-03-19 15:16:...|\n",
      "|68476668|                 20000.0|                 1393.8|                    0.0|               21393.8|           15681.05|         Nov-2016|             null|2024-03-19 15:16:...|\n",
      "|67275481|                 20000.0|                1538.51|                    0.0|              21538.51|           14618.23|         Jan-2017|             null|2024-03-19 15:16:...|\n",
      "|68466926|                 10000.0|                 998.97|                    0.0|             10998.972|            1814.48|         Aug-2018|             null|2024-03-19 15:16:...|\n",
      "|68616873|                  8000.0|                 939.58|                    0.0|               8939.58|            4996.24|         Apr-2017|             null|2024-03-19 15:16:...|\n",
      "|68338832|                  1400.0|                 175.16|                    0.0|             1575.1606|             965.36|         Mar-2017|             null|2024-03-19 15:16:...|\n",
      "|66624733|                 3481.86|                4351.98|                    0.0|               9452.74|              471.7|         May-2017|             null|2024-03-19 15:16:...|\n",
      "|68466961|                 28000.0|                1939.02|                    0.0|             29939.018|           17093.51|         May-2017|             null|2024-03-19 15:16:...|\n",
      "|68354783|                  9600.0|                 1036.1|                    0.0|             10636.099|            3480.17|         Feb-2018|             null|2024-03-19 15:16:...|\n",
      "|68466916|                 25000.0|                1224.23|                    0.0|              26224.23|           20807.39|         Sep-2016|             null|2024-03-19 15:16:...|\n",
      "|68577849|                 18000.0|                 387.22|                    0.0|              18387.22|            18004.9|         Mar-2016|             null|2024-03-19 15:16:...|\n",
      "|68495092|                  8650.0|                 540.49|                    0.0|               9190.49|            8251.42|         May-2016|             null|2024-03-19 15:16:...|\n",
      "|68566886|                 29900.0|                4133.21|                    0.0|             34033.215|           25234.24|         Mar-2017|             null|2024-03-19 15:16:...|\n",
      "|68009401|                 16000.0|                3498.09|                    0.0|             19498.092|           12322.68|         Sep-2017|             null|2024-03-19 15:16:...|\n",
      "|68476702|                 28000.0|                5320.39|                    0.0|             33320.395|            12486.3|         Dec-2017|             null|2024-03-19 15:16:...|\n",
      "|68436666|                  5000.0|                1117.45|                    0.0|              6117.453|             169.17|         Jan-2019|             null|2024-03-19 15:16:...|\n",
      "+--------+------------------------+-----------------------+-----------------------+----------------------+-------------------+-----------------+-----------------+--------------------+\n",
      "only showing top 20 rows\n",
      "\n"
     ]
    }
   ],
   "source": [
    "df.filter('next_payment_date is null ').show()"
   ]
  },
  {
   "cell_type": "code",
   "execution_count": 14,
   "id": "4e6aa172-53ab-4fb6-821e-d30841abb947",
   "metadata": {},
   "outputs": [
    {
     "name": "stdout",
     "output_type": "stream",
     "text": [
      "+--------+------------------------+-----------------------+-----------------------+----------------------+-------------------+-----------------+-----------------+--------------------+\n",
      "| loan_id|total_principal_received|total_interest_received|total_late_fee_received|total_payment_received|last_payment_amount|last_payment_date|next_payment_date|         ingest_date|\n",
      "+--------+------------------------+-----------------------+-----------------------+----------------------+-------------------+-----------------+-----------------+--------------------+\n",
      "|68407277|                  3600.0|                 821.72|                    0.0|              4421.724|             122.67|         Jan-2019|             null|2024-03-21 11:45:...|\n",
      "|68355089|                 24700.0|                 979.66|                    0.0|              25679.66|             926.35|         Jun-2016|             null|2024-03-21 11:45:...|\n",
      "|68341763|                 20000.0|                2705.92|                    0.0|             22705.924|            15813.3|         Jun-2017|             null|2024-03-21 11:45:...|\n",
      "|66310712|                19102.35|               12361.66|                    0.0|              31464.01|              829.9|         Feb-2019|         Apr-2019|2024-03-21 11:45:...|\n",
      "|68476807|                 10400.0|                 1340.5|                    0.0|               11740.5|           10128.96|         Jul-2016|             null|2024-03-21 11:45:...|\n",
      "|68426831|                 11950.0|                1758.95|                    0.0|             13708.948|            7653.56|         May-2017|             null|2024-03-21 11:45:...|\n",
      "|68476668|                 20000.0|                 1393.8|                    0.0|               21393.8|           15681.05|         Nov-2016|             null|2024-03-21 11:45:...|\n",
      "|67275481|                 20000.0|                1538.51|                    0.0|              21538.51|           14618.23|         Jan-2017|             null|2024-03-21 11:45:...|\n",
      "|68466926|                 10000.0|                 998.97|                    0.0|             10998.972|            1814.48|         Aug-2018|             null|2024-03-21 11:45:...|\n",
      "|68616873|                  8000.0|                 939.58|                    0.0|               8939.58|            4996.24|         Apr-2017|             null|2024-03-21 11:45:...|\n",
      "|68356421|                12487.12|                6788.21|                    0.0|              19275.33|              508.3|         Feb-2019|         Apr-2019|2024-03-21 11:45:...|\n",
      "|68426545|                  8919.3|                4848.74|                    0.0|              13768.04|             363.07|         Feb-2019|         Apr-2019|2024-03-21 11:45:...|\n",
      "|68338832|                  1400.0|                 175.16|                    0.0|             1575.1606|             965.36|         Mar-2017|             null|2024-03-21 11:45:...|\n",
      "|66624733|                 3481.86|                4351.98|                    0.0|               9452.74|              471.7|         May-2017|             null|2024-03-21 11:45:...|\n",
      "|68466961|                 28000.0|                1939.02|                    0.0|             29939.018|           17093.51|         May-2017|             null|2024-03-21 11:45:...|\n",
      "|68354783|                  9600.0|                 1036.1|                    0.0|             10636.099|            3480.17|         Feb-2018|             null|2024-03-21 11:45:...|\n",
      "|68466916|                 25000.0|                1224.23|                    0.0|              26224.23|           20807.39|         Sep-2016|             null|2024-03-21 11:45:...|\n",
      "|68577849|                 18000.0|                 387.22|                    0.0|              18387.22|            18004.9|         Mar-2016|             null|2024-03-21 11:45:...|\n",
      "|68506798|                 13419.8|                4480.34|                    0.0|              17900.14|             471.77|         Feb-2019|         Apr-2019|2024-03-21 11:45:...|\n",
      "|68495092|                  8650.0|                 540.49|                    0.0|               9190.49|            8251.42|         May-2016|             null|2024-03-21 11:45:...|\n",
      "+--------+------------------------+-----------------------+-----------------------+----------------------+-------------------+-----------------+-----------------+--------------------+\n",
      "only showing top 20 rows\n",
      "\n"
     ]
    }
   ],
   "source": [
    "df.show()"
   ]
  },
  {
   "cell_type": "code",
   "execution_count": 15,
   "id": "6786b198-5860-4855-8933-bc9d448ce776",
   "metadata": {},
   "outputs": [
    {
     "name": "stdout",
     "output_type": "stream",
     "text": [
      "root\n",
      " |-- loan_id: string (nullable = true)\n",
      " |-- total_principal_received: float (nullable = true)\n",
      " |-- total_interest_received: float (nullable = true)\n",
      " |-- total_late_fee_received: float (nullable = true)\n",
      " |-- total_payment_received: float (nullable = true)\n",
      " |-- last_payment_amount: float (nullable = true)\n",
      " |-- last_payment_date: string (nullable = true)\n",
      " |-- next_payment_date: string (nullable = true)\n",
      " |-- ingest_date: timestamp (nullable = false)\n",
      "\n"
     ]
    }
   ],
   "source": [
    "df.printSchema()"
   ]
  },
  {
   "cell_type": "code",
   "execution_count": 16,
   "id": "f6157b14-8f2c-4609-8ed5-dfd6c28e95fc",
   "metadata": {},
   "outputs": [
    {
     "name": "stderr",
     "output_type": "stream",
     "text": [
      "                                                                                \r"
     ]
    }
   ],
   "source": [
    "df.write.format(\"parquet\").mode(\"overwrite\").option(\"path\",\"/home/tushar/Documents/project/cleaned_loan_repayment/parquet\").save()"
   ]
  },
  {
   "cell_type": "code",
   "execution_count": 17,
   "id": "a21ff78c-5d1a-4861-a1e1-540bfe61d1b2",
   "metadata": {},
   "outputs": [
    {
     "name": "stderr",
     "output_type": "stream",
     "text": [
      "                                                                                \r"
     ]
    }
   ],
   "source": [
    "df.write.format(\"csv\").mode(\"overwrite\").option(\"path\",\"/home/tushar/Documents/project/cleaned_loan_repayment/csv\").save()"
   ]
  },
  {
   "cell_type": "code",
   "execution_count": null,
   "id": "928975c3-5f05-42be-98d5-775974933e53",
   "metadata": {},
   "outputs": [],
   "source": []
  }
 ],
 "metadata": {
  "kernelspec": {
   "display_name": "spark",
   "language": "python",
   "name": "spark"
  },
  "language_info": {
   "codemirror_mode": {
    "name": "ipython",
    "version": 3
   },
   "file_extension": ".py",
   "mimetype": "text/x-python",
   "name": "python",
   "nbconvert_exporter": "python",
   "pygments_lexer": "ipython3",
   "version": "3.10.12"
  }
 },
 "nbformat": 4,
 "nbformat_minor": 5
}
