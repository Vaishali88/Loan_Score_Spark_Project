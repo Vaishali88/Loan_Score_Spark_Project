{
 "cells": [
  {
   "cell_type": "code",
   "execution_count": 1,
   "id": "04cf74ef-7cce-40c7-89ba-2ccaea758e5e",
   "metadata": {},
   "outputs": [],
   "source": [
    "from pyspark.sql import SparkSession\n",
    "from pyspark.sql.functions import *"
   ]
  },
  {
   "cell_type": "code",
   "execution_count": 2,
   "id": "b6a0ec75-abd5-4994-922b-e75c7007217e",
   "metadata": {},
   "outputs": [
    {
     "name": "stderr",
     "output_type": "stream",
     "text": [
      "Warning: Ignoring non-Spark config property: spark\n",
      "Setting default log level to \"WARN\".\n",
      "To adjust logging level use sc.setLogLevel(newLevel). For SparkR, use setLogLevel(newLevel).\n",
      "24/03/21 14:19:58 WARN Utils: Service 'SparkUI' could not bind on port 4040. Attempting port 4041.\n"
     ]
    }
   ],
   "source": [
    "spark = SparkSession.builder.appName(\"loan_score\") \\\n",
    ".master(\"spark://10.208.36.84:7077\") \\\n",
    ".config(\"spark.hadoop.defaultFS\",\"hdfs://10.208.36.84:9000\") \\\n",
    ".config(\"spark.sql.warehouse.dir\",\"/home/hadoop/spark_workspace/shared_folder/tushar/Tables_data\")\\\n",
    ".config(\"spark.executor.cores\",2) \\\n",
    ".config(\"spark.executor.memory\",\"4g\") \\\n",
    ".config(\"spark.cores.max\",\"8\") \\\n",
    ".enableHiveSupport() \\\n",
    ".getOrCreate()"
   ]
  },
  {
   "cell_type": "code",
   "execution_count": 3,
   "id": "c316f935-664d-446c-842c-48d77d79ff8b",
   "metadata": {},
   "outputs": [],
   "source": [
    "spark.conf.set(\"spark.sql.unacceptable_rated_pts\", 0)\n",
    "spark.conf.set(\"spark.sql.very_bad_rated_pts\", 100)\n",
    "spark.conf.set(\"spark.sql.bad_rated_pts\", 250)\n",
    "spark.conf.set(\"spark.sql.good_rated_pts\", 500)\n",
    "spark.conf.set(\"spark.sql.very_good_rated_pts\", 650)\n",
    "spark.conf.set(\"spark.sql.excellent_rated_pts\", 800)"
   ]
  },
  {
   "cell_type": "code",
   "execution_count": 4,
   "id": "acc2080d-d45b-43c3-8457-5412a5d4fccd",
   "metadata": {},
   "outputs": [],
   "source": [
    "spark.conf.set(\"spark.sql.unacceptable_grade_pts\", 750)\n",
    "spark.conf.set(\"spark.sql.very_bad_grade_pts\", 1000)\n",
    "spark.conf.set(\"spark.sql.bad_grade_pts\", 1500)\n",
    "spark.conf.set(\"spark.sql.good_grade_pts\", 2000)\n",
    "spark.conf.set(\"spark.sql.very_good_grade_pts\", 2500)"
   ]
  },
  {
   "cell_type": "code",
   "execution_count": 5,
   "id": "00d187bc-b385-4148-bc79-a8a70edac1a2",
   "metadata": {},
   "outputs": [
    {
     "name": "stderr",
     "output_type": "stream",
     "text": [
      "                                                                                \r"
     ]
    }
   ],
   "source": [
    "bad_df = spark.read.format(\"csv\") \\\n",
    ".option(\"header\",\"true\") \\\n",
    ".option(\"inferSchema\",\"true\") \\\n",
    ".load(\"/home/tushar/Documents/project/bad_data/consolidated\")"
   ]
  },
  {
   "cell_type": "code",
   "execution_count": 6,
   "id": "8dd34c79-a4ea-4bab-81f1-5afa5180f8b8",
   "metadata": {},
   "outputs": [],
   "source": [
    "bad_df.createOrReplaceTempView(\"bad_data_customer\")"
   ]
  },
  {
   "cell_type": "code",
   "execution_count": null,
   "id": "655f7a83-893c-4c3d-8f68-660593c47941",
   "metadata": {},
   "outputs": [],
   "source": []
  },
  {
   "cell_type": "code",
   "execution_count": 7,
   "id": "12e7a7d1-e32f-40b0-b2c7-2cc3df027ad1",
   "metadata": {},
   "outputs": [
    {
     "data": {
      "text/plain": [
       "DataFrame[]"
      ]
     },
     "execution_count": 7,
     "metadata": {},
     "output_type": "execute_result"
    }
   ],
   "source": [
    "spark.sql(\"use project_trendy\")"
   ]
  },
  {
   "cell_type": "markdown",
   "id": "056377d5-aec5-419a-a404-f5b6565c3067",
   "metadata": {},
   "source": [
    "<ul> Loan Calculation is based on three things:\n",
    "<li> Loan Repayment History</li>\n",
    "<li>Loan Defaulters History</li>\n",
    "<li> Financial Health Data</li></ul>"
   ]
  },
  {
   "cell_type": "code",
   "execution_count": 8,
   "id": "fe2054b6-e9b8-4dd7-a1d2-e6aeef2f07e5",
   "metadata": {},
   "outputs": [
    {
     "name": "stderr",
     "output_type": "stream",
     "text": [
      "[Stage 2:>                                                          (0 + 1) / 1]\r"
     ]
    },
    {
     "name": "stdout",
     "output_type": "stream",
     "text": [
      "+--------+--------------------+-----------+-------------+---------------+-------------+-------------------+----------+-----------+------------------+--------------------+-----------+\n",
      "| loan_id|           member_id|loan_amount|funded_amount|loan_term_years|interest_rate|monthly_installment|issue_date|loan_status|      loan_purpose|          loan_title|ingest_date|\n",
      "+--------+--------------------+-----------+-------------+---------------+-------------+-------------------+----------+-----------+------------------+--------------------+-----------+\n",
      "|57267443|48e96acef66a1b3aa...|    15000.0|      15000.0|              3|        19.99|               null|  Aug-2015| Fully Paid|debt_consolidation|  Debt consolidation|       null|\n",
      "|57186326|a26f0e7701a6ab87d...|     6000.0|       6000.0|              3|         6.89|               null|  Aug-2015| Fully Paid|debt_consolidation|  Debt consolidation|       null|\n",
      "|57044889|eeb80dce9907d9aa4...|     9625.0|       9625.0|              3|         8.18|               null|  Aug-2015|Charged Off|       credit_card|Credit card refin...|       null|\n",
      "+--------+--------------------+-----------+-------------+---------------+-------------+-------------------+----------+-----------+------------------+--------------------+-----------+\n",
      "\n"
     ]
    },
    {
     "name": "stderr",
     "output_type": "stream",
     "text": [
      "                                                                                \r"
     ]
    }
   ],
   "source": [
    "spark.sql(\"select * from project_trendy.loans limit 3\").show()"
   ]
  },
  {
   "cell_type": "code",
   "execution_count": 9,
   "id": "40eaaa42-7771-4be6-bde4-77397ec1edf8",
   "metadata": {},
   "outputs": [],
   "source": [
    "ph_df = spark.sql(\"select c.member_id, \\\n",
    "   case \\\n",
    "   when p.last_payment_amount < (c.monthly_installment * 0.5) then ${spark.sql.very_bad_rated_pts} \\\n",
    "   when p.last_payment_amount >= (c.monthly_installment * 0.5) and p.last_payment_amount < c.monthly_installment then ${spark.sql.very_bad_rated_pts} \\\n",
    "   when p.last_payment_amount = (c.monthly_installment) then ${spark.sql.good_rated_pts} \\\n",
    "   when p.last_payment_amount > (c.monthly_installment) and p.last_payment_amount <= (c.monthly_installment * 1.50) then ${spark.sql.very_good_rated_pts} \\\n",
    "   when p.last_payment_amount > (c.monthly_installment * 1.50) then ${spark.sql.excellent_rated_pts} \\\n",
    "   else ${spark.sql.unacceptable_rated_pts} \\\n",
    "   end as last_payment_pts, \\\n",
    "   case \\\n",
    "   when p.total_payment_received >= (c.funded_amount * 0.50) then ${spark.sql.very_good_rated_pts} \\\n",
    "   when p.total_payment_received < (c.funded_amount * 0.50) and p.total_payment_received > 0 then ${spark.sql.good_rated_pts} \\\n",
    "   when p.total_payment_received = 0 or (p.total_payment_received) is null then ${spark.sql.unacceptable_rated_pts} \\\n",
    "   end as total_payment_pts \\\n",
    "from project_trendy.loans_repayments as p \\\n",
    "inner join project_trendy.loans as c on c.loan_id = p.loan_id \")"
   ]
  },
  {
   "cell_type": "code",
   "execution_count": 10,
   "id": "3d01314d-6b22-4ead-896c-64990267a41d",
   "metadata": {},
   "outputs": [],
   "source": [
    "ph_df.createOrReplaceTempView(\"loan_score\")"
   ]
  },
  {
   "cell_type": "code",
   "execution_count": 11,
   "id": "6eee29c8-0ee0-4b9e-b0f3-869e9287592f",
   "metadata": {},
   "outputs": [
    {
     "name": "stderr",
     "output_type": "stream",
     "text": [
      "                                                                                \r"
     ]
    },
    {
     "name": "stdout",
     "output_type": "stream",
     "text": [
      "+--------------------+----------------+-----------------+\n",
      "|           member_id|last_payment_pts|total_payment_pts|\n",
      "+--------------------+----------------+-----------------+\n",
      "|48e96acef66a1b3aa...|               0|              650|\n",
      "|a26f0e7701a6ab87d...|               0|              650|\n",
      "|eeb80dce9907d9aa4...|               0|              650|\n",
      "|7402edb6f0ddc36f9...|               0|              650|\n",
      "|e01ab149a9a148d65...|               0|              650|\n",
      "|40f90b73b901d4409...|               0|              650|\n",
      "|96600ee521db9560d...|               0|              500|\n",
      "|603d52eee7a658910...|               0|              650|\n",
      "|985f379c5a65583bf...|               0|              650|\n",
      "|005bb3c40d7cf116d...|               0|              650|\n",
      "|c5816e78c25d6b6ad...|               0|              650|\n",
      "|8e582a7286c763c94...|               0|              650|\n",
      "|dba24d2a7e49b160f...|               0|              650|\n",
      "|9f01942ec481d6a7c...|               0|              500|\n",
      "|17be387404072c211...|               0|              650|\n",
      "|af2240a261ddb0d3b...|               0|              650|\n",
      "|9d069381e5d939963...|               0|              650|\n",
      "|2555c8d83580c7787...|               0|              650|\n",
      "|a1baf2dbf86edd383...|               0|              650|\n",
      "|a3ec0c27c93fc555e...|               0|              650|\n",
      "+--------------------+----------------+-----------------+\n",
      "only showing top 20 rows\n",
      "\n"
     ]
    }
   ],
   "source": [
    "spark.sql(\"select * from loan_score\").show()"
   ]
  },
  {
   "cell_type": "code",
   "execution_count": 12,
   "id": "54e3cef8-46a1-48c6-9a2c-44efd0ef1635",
   "metadata": {},
   "outputs": [
    {
     "name": "stdout",
     "output_type": "stream",
     "text": [
      "root\n",
      " |-- member_id: string (nullable = true)\n",
      " |-- last_payment_pts: integer (nullable = false)\n",
      " |-- total_payment_pts: integer (nullable = true)\n",
      "\n"
     ]
    }
   ],
   "source": [
    "ph_df.printSchema()"
   ]
  },
  {
   "cell_type": "code",
   "execution_count": 13,
   "id": "58487e40-1e0a-4bac-aaf1-c9ca5522bddb",
   "metadata": {},
   "outputs": [
    {
     "name": "stdout",
     "output_type": "stream",
     "text": [
      "+--------------------+----------------+-----------------+\n",
      "|           member_id|last_payment_pts|total_payment_pts|\n",
      "+--------------------+----------------+-----------------+\n",
      "|48e96acef66a1b3aa...|               0|              650|\n",
      "|a26f0e7701a6ab87d...|               0|              650|\n",
      "|eeb80dce9907d9aa4...|               0|              650|\n",
      "|7402edb6f0ddc36f9...|               0|              650|\n",
      "|e01ab149a9a148d65...|               0|              650|\n",
      "|40f90b73b901d4409...|               0|              650|\n",
      "|96600ee521db9560d...|               0|              500|\n",
      "|603d52eee7a658910...|               0|              650|\n",
      "|985f379c5a65583bf...|               0|              650|\n",
      "|005bb3c40d7cf116d...|               0|              650|\n",
      "|c5816e78c25d6b6ad...|               0|              650|\n",
      "|8e582a7286c763c94...|               0|              650|\n",
      "|dba24d2a7e49b160f...|               0|              650|\n",
      "|9f01942ec481d6a7c...|               0|              500|\n",
      "|17be387404072c211...|               0|              650|\n",
      "|af2240a261ddb0d3b...|               0|              650|\n",
      "|9d069381e5d939963...|               0|              650|\n",
      "|2555c8d83580c7787...|               0|              650|\n",
      "|a1baf2dbf86edd383...|               0|              650|\n",
      "|a3ec0c27c93fc555e...|               0|              650|\n",
      "+--------------------+----------------+-----------------+\n",
      "only showing top 20 rows\n",
      "\n"
     ]
    },
    {
     "name": "stderr",
     "output_type": "stream",
     "text": [
      "                                                                                \r"
     ]
    }
   ],
   "source": [
    "ph_df.show()"
   ]
  },
  {
   "cell_type": "code",
   "execution_count": 16,
   "id": "5a1761dd-3271-4b45-abd2-18310635aa1a",
   "metadata": {},
   "outputs": [
    {
     "data": {
      "text/plain": [
       "DataFrame[]"
      ]
     },
     "execution_count": 16,
     "metadata": {},
     "output_type": "execute_result"
    }
   ],
   "source": [
    "spark.sql(\"use project_trendy\")"
   ]
  },
  {
   "cell_type": "code",
   "execution_count": null,
   "id": "d7ab5981-1e56-4063-9466-7bc5d774d560",
   "metadata": {},
   "outputs": [],
   "source": []
  },
  {
   "cell_type": "code",
   "execution_count": 21,
   "id": "5e401bd3-7d52-4148-844a-fd5965cdbb2c",
   "metadata": {},
   "outputs": [],
   "source": [
    "ldh_ph_df = spark.sql(\n",
    "    \"select p.*, \\\n",
    "    CASE \\\n",
    "    WHEN d.delinq_2yrs = 0 THEN ${spark.sql.excellent_rated_pts} \\\n",
    "    WHEN d.delinq_2yrs BETWEEN 1 AND 2 THEN ${spark.sql.bad_rated_pts} \\\n",
    "    WHEN d.delinq_2yrs BETWEEN 3 AND 5 THEN ${spark.sql.very_bad_rated_pts} \\\n",
    "    WHEN d.delinq_2yrs > 5 OR d.delinq_2yrs IS NULL THEN ${spark.sql.unacceptable_grade_pts} \\\n",
    "    END AS delinq_pts, \\\n",
    "    CASE \\\n",
    "    WHEN l.pub_rec = 0 THEN ${spark.sql.excellent_rated_pts} \\\n",
    "    WHEN l.pub_rec BETWEEN 1 AND 2 THEN ${spark.sql.bad_rated_pts} \\\n",
    "    WHEN l.pub_rec BETWEEN 3 AND 5 THEN ${spark.sql.very_bad_rated_pts} \\\n",
    "    WHEN l.pub_rec > 5 OR l.pub_rec IS NULL THEN ${spark.sql.very_bad_rated_pts} \\\n",
    "    END AS public_records_pts, \\\n",
    "    CASE \\\n",
    "    WHEN l.pub_rec_bankruptcies = 0 THEN ${spark.sql.excellent_rated_pts} \\\n",
    "    WHEN l.pub_rec_bankruptcies BETWEEN 1 AND 2 THEN ${spark.sql.bad_rated_pts} \\\n",
    "    WHEN l.pub_rec_bankruptcies BETWEEN 3 AND 5 THEN ${spark.sql.very_bad_rated_pts} \\\n",
    "    WHEN l.pub_rec_bankruptcies > 5 OR l.pub_rec_bankruptcies IS NULL THEN ${spark.sql.very_bad_rated_pts} \\\n",
    "    END as public_bankruptcies_pts, \\\n",
    "    CASE \\\n",
    "    WHEN l.inq_last_6mths = 0 THEN ${spark.sql.excellent_rated_pts} \\\n",
    "    WHEN l.inq_last_6mths BETWEEN 1 AND 2 THEN ${spark.sql.bad_rated_pts} \\\n",
    "    WHEN l.inq_last_6mths BETWEEN 3 AND 5 THEN ${spark.sql.very_bad_rated_pts} \\\n",
    "    WHEN l.inq_last_6mths > 5 OR l.inq_last_6mths IS NULL THEN ${spark.sql.unacceptable_rated_pts} \\\n",
    "    END AS enq_pts \\\n",
    "    FROM project_trendy.new_loans_defaulters_detail_rec_enq l \\\n",
    "    INNER JOIN project_trendy.loans_defaulters_delinq d ON d.member_id = l.member_id  \\\n",
    "    INNER JOIN loan_score p ON p.member_id = l.member_id where l.member_id NOT IN (select member_id from bad_data_customer)\")"
   ]
  },
  {
   "cell_type": "code",
   "execution_count": 22,
   "id": "1d44d171-b703-4572-a7d7-8d827bf0e32d",
   "metadata": {},
   "outputs": [
    {
     "name": "stderr",
     "output_type": "stream",
     "text": [
      "[Stage 15:>                                                         (0 + 1) / 1]\r"
     ]
    },
    {
     "name": "stdout",
     "output_type": "stream",
     "text": [
      "+--------------------+----------------+-----------------+----------+------------------+-----------------------+-------+\n",
      "|           member_id|last_payment_pts|total_payment_pts|delinq_pts|public_records_pts|public_bankruptcies_pts|enq_pts|\n",
      "+--------------------+----------------+-----------------+----------+------------------+-----------------------+-------+\n",
      "|000152208b3e77b5b...|               0|              650|       800|               800|                    800|    800|\n",
      "|0001cfa200f7480b9...|               0|              650|       250|               250|                    250|    250|\n",
      "|00026136ec721b938...|               0|              500|       250|               800|                    800|    250|\n",
      "|0004656412a18b9c1...|               0|              650|       250|               800|                    800|    800|\n",
      "|0004f290201c29d93...|               0|              500|       800|               800|                    800|    800|\n",
      "|0005c3b2e23d18d3a...|               0|              650|       250|               800|                    800|    250|\n",
      "|0005f7eea1cc9ebeb...|               0|              500|       800|               800|                    800|    800|\n",
      "|00068d8b359a1a6e1...|               0|              650|       250|               800|                    800|    250|\n",
      "|0006f75e5d4813efb...|               0|              650|       800|               800|                    800|    800|\n",
      "|00080cee8fe0f0414...|               0|              650|       250|               800|                    800|    250|\n",
      "|00088763ac64ad2c2...|               0|              500|       800|               800|                    800|    800|\n",
      "|00089660c638fdffa...|               0|              650|       800|               800|                    800|    800|\n",
      "|000b76a7fd404bd04...|               0|              500|       800|               800|                    800|    800|\n",
      "|000b815b1bb9d0682...|               0|              650|       800|               250|                    250|    800|\n",
      "|000c698db15b35e1b...|               0|              650|       800|               250|                    800|    800|\n",
      "|000cd176f9dec761d...|               0|              500|       800|               800|                    800|    800|\n",
      "|000da8b825083572f...|               0|              650|       800|               800|                    800|    250|\n",
      "|000db9b641adb3474...|               0|              650|       800|               250|                    250|    800|\n",
      "|000dd9052b29eef81...|               0|              650|       800|               800|                    800|    250|\n",
      "|000fff700a0a3f9bf...|               0|              650|       800|               100|                    800|    800|\n",
      "+--------------------+----------------+-----------------+----------+------------------+-----------------------+-------+\n",
      "only showing top 20 rows\n",
      "\n"
     ]
    },
    {
     "name": "stderr",
     "output_type": "stream",
     "text": [
      "                                                                                \r"
     ]
    }
   ],
   "source": [
    "ldh_ph_df.show()"
   ]
  },
  {
   "cell_type": "code",
   "execution_count": 23,
   "id": "010d59f2-b4ad-4f7c-991a-92385ce74ee7",
   "metadata": {},
   "outputs": [],
   "source": [
    "ldh_ph_df.createOrReplaceTempView(\"ldh_ph_pts\")"
   ]
  },
  {
   "cell_type": "code",
   "execution_count": 28,
   "id": "4079c24d-3832-403a-8ca7-ac535f355a7b",
   "metadata": {},
   "outputs": [
    {
     "name": "stdout",
     "output_type": "stream",
     "text": [
      "+--------------+--------------------+-----------+\n",
      "|     namespace|           tableName|isTemporary|\n",
      "+--------------+--------------------+-----------+\n",
      "|project_trendy|           customers|      false|\n",
      "|project_trendy|      customers_loan|      false|\n",
      "|project_trendy|    customers_loan_v|      false|\n",
      "|project_trendy|               loans|      false|\n",
      "|project_trendy|loans_defaulters_...|      false|\n",
      "|project_trendy|loans_defaulters_...|      false|\n",
      "|project_trendy|    loans_repayments|      false|\n",
      "|project_trendy|        new_customer|      false|\n",
      "|project_trendy|new_loans_default...|      false|\n",
      "|project_trendy|new_loans_default...|      false|\n",
      "|              |   bad_data_customer|       true|\n",
      "|              |          ldh_ph_pts|       true|\n",
      "|              |          loan_score|       true|\n",
      "+--------------+--------------------+-----------+\n",
      "\n"
     ]
    }
   ],
   "source": [
    "spark.sql(\"show tables\").show()"
   ]
  },
  {
   "cell_type": "code",
   "execution_count": 29,
   "id": "db96aa78-79a6-4c06-88c6-4f8dd24869a3",
   "metadata": {},
   "outputs": [],
   "source": [
    "fh_ldh_ph_df = spark.sql(\"select ldef.*, \\\n",
    "   CASE \\\n",
    "   WHEN LOWER(l.loan_status) LIKE '%fully paid%' THEN ${spark.sql.excellent_rated_pts} \\\n",
    "   WHEN LOWER(l.loan_status) LIKE '%current%' THEN ${spark.sql.good_rated_pts} \\\n",
    "   WHEN LOWER(l.loan_status) LIKE '%in grace period%' THEN ${spark.sql.bad_rated_pts} \\\n",
    "   WHEN LOWER(l.loan_status) LIKE '%late (16-30 days)%' OR LOWER(l.loan_status) LIKE '%late (31-120 days)%' THEN ${spark.sql.very_bad_rated_pts} \\\n",
    "   WHEN LOWER(l.loan_status) LIKE '%charged off%' THEN ${spark.sql.unacceptable_rated_pts} \\\n",
    "   else ${spark.sql.unacceptable_rated_pts} \\\n",
    "   END AS loan_status_pts, \\\n",
    "   CASE \\\n",
    "   WHEN LOWER(a.home_ownership) LIKE '%own' THEN ${spark.sql.excellent_rated_pts} \\\n",
    "   WHEN LOWER(a.home_ownership) LIKE '%rent' THEN ${spark.sql.good_rated_pts} \\\n",
    "   WHEN LOWER(a.home_ownership) LIKE '%mortgage' THEN ${spark.sql.bad_rated_pts} \\\n",
    "   WHEN LOWER(a.home_ownership) LIKE '%any' OR LOWER(a.home_ownership) IS NULL THEN ${spark.sql.very_bad_rated_pts} \\\n",
    "   END AS home_pts, \\\n",
    "   CASE \\\n",
    "   WHEN l.funded_amount <= (a.total_high_credit_limit * 0.10) THEN ${spark.sql.excellent_rated_pts} \\\n",
    "   WHEN l.funded_amount > (a.total_high_credit_limit * 0.10) AND l.funded_amount <= (a.total_high_credit_limit * 0.20) THEN ${spark.sql.very_good_rated_pts} \\\n",
    "   WHEN l.funded_amount > (a.total_high_credit_limit * 0.20) AND l.funded_amount <= (a.total_high_credit_limit * 0.30) THEN ${spark.sql.good_rated_pts} \\\n",
    "   WHEN l.funded_amount > (a.total_high_credit_limit * 0.30) AND l.funded_amount <= (a.total_high_credit_limit * 0.50) THEN ${spark.sql.bad_rated_pts} \\\n",
    "   WHEN l.funded_amount > (a.total_high_credit_limit * 0.50) AND l.funded_amount <= (a.total_high_credit_limit * 0.70) THEN ${spark.sql.very_bad_rated_pts} \\\n",
    "   WHEN l.funded_amount > (a.total_high_credit_limit * 0.70) THEN ${spark.sql.unacceptable_rated_pts} \\\n",
    "   else ${spark.sql.unacceptable_rated_pts} \\\n",
    "   END AS credit_limit_pts, \\\n",
    "   CASE \\\n",
    "   WHEN (a.grade) = 'A' and (a.sub_grade)='A1' THEN ${spark.sql.excellent_rated_pts} \\\n",
    "   WHEN (a.grade) = 'A' and (a.sub_grade)='A2' THEN (${spark.sql.excellent_rated_pts} * 0.95) \\\n",
    "   WHEN (a.grade) = 'A' and (a.sub_grade)='A3' THEN (${spark.sql.excellent_rated_pts} * 0.90) \\\n",
    "   WHEN (a.grade) = 'A' and (a.sub_grade)='A4' THEN (${spark.sql.excellent_rated_pts} * 0.85) \\\n",
    "   WHEN (a.grade) = 'A' and (a.sub_grade)='A5' THEN (${spark.sql.excellent_rated_pts} * 0.80) \\\n",
    "   WHEN (a.grade) = 'B' and (a.sub_grade)='B1' THEN (${spark.sql.very_good_rated_pts}) \\\n",
    "   WHEN (a.grade) = 'B' and (a.sub_grade)='B2' THEN (${spark.sql.very_good_rated_pts} * 0.95) \\\n",
    "   WHEN (a.grade) = 'B' and (a.sub_grade)='B3' THEN (${spark.sql.very_good_rated_pts} * 0.90) \\\n",
    "   WHEN (a.grade) = 'B' and (a.sub_grade)='B4' THEN (${spark.sql.very_good_rated_pts} * 0.85) \\\n",
    "   WHEN (a.grade) = 'B' and (a.sub_grade)='B5' THEN (${spark.sql.very_good_rated_pts} * 0.80) \\\n",
    "   WHEN (a.grade) = 'C' and (a.sub_grade)='C1' THEN (${spark.sql.good_rated_pts}) \\\n",
    "   WHEN (a.grade) = 'C' and (a.sub_grade)='C2' THEN (${spark.sql.good_rated_pts} * 0.95) \\\n",
    "   WHEN (a.grade) = 'C' and (a.sub_grade)='C3' THEN (${spark.sql.good_rated_pts} * 0.90) \\\n",
    "   WHEN (a.grade) = 'C' and (a.sub_grade)='C4' THEN (${spark.sql.good_rated_pts} * 0.85) \\\n",
    "   WHEN (a.grade) = 'C' and (a.sub_grade)='C5' THEN (${spark.sql.good_rated_pts} * 0.80) \\\n",
    "   WHEN (a.grade) = 'D' and (a.sub_grade)='D1' THEN (${spark.sql.bad_rated_pts}) \\\n",
    "   WHEN (a.grade) = 'D' and (a.sub_grade)='D2' THEN (${spark.sql.bad_rated_pts} * 0.95) \\\n",
    "   WHEN (a.grade) = 'D' and (a.sub_grade)='D3' THEN (${spark.sql.bad_rated_pts} * 0.90) \\\n",
    "   WHEN (a.grade) = 'D' and (a.sub_grade)='D4' THEN (${spark.sql.bad_rated_pts} * 0.85) \\\n",
    "   WHEN (a.grade) = 'D' and (a.sub_grade)='D5' THEN (${spark.sql.bad_rated_pts} * 0.80) \\\n",
    "   WHEN (a.grade) = 'E' and (a.sub_grade)='E1' THEN (${spark.sql.very_bad_rated_pts}) \\\n",
    "   WHEN (a.grade) = 'E' and (a.sub_grade)='E2' THEN (${spark.sql.very_bad_rated_pts} * 0.95) \\\n",
    "   WHEN (a.grade) = 'E' and (a.sub_grade)='E3' THEN (${spark.sql.very_bad_rated_pts} * 0.90) \\\n",
    "   WHEN (a.grade) = 'E' and (a.sub_grade)='E4' THEN (${spark.sql.very_bad_rated_pts} * 0.85) \\\n",
    "   WHEN (a.grade) = 'E' and (a.sub_grade)='E5' THEN (${spark.sql.very_bad_rated_pts} * 0.80) \\\n",
    "   WHEN (a.grade) in ('F', 'G') THEN (${spark.sql.unacceptable_rated_pts}) \\\n",
    "   END AS grade_pts \\\n",
    "   FROM ldh_ph_pts ldef \\\n",
    "   INNER JOIN project_trendy.loans l ON ldef.member_id = l.member_id \\\n",
    "   INNER JOIN project_trendy.new_customer a ON a.member_id = ldef.member_id where ldef.member_id NOT IN (select member_id from bad_data_customer)\") "
   ]
  },
  {
   "cell_type": "code",
   "execution_count": 30,
   "id": "3b303777-de1e-4587-a928-2230ab7159a6",
   "metadata": {},
   "outputs": [],
   "source": [
    "fh_ldh_ph_df.createOrReplaceTempView(\"fh_ldh_ph_pts\")"
   ]
  },
  {
   "cell_type": "code",
   "execution_count": 31,
   "id": "e3034085-274f-4803-8514-d43f4825093e",
   "metadata": {},
   "outputs": [
    {
     "name": "stdout",
     "output_type": "stream",
     "text": [
      "root\n",
      " |-- member_id: string (nullable = true)\n",
      " |-- last_payment_pts: integer (nullable = false)\n",
      " |-- total_payment_pts: integer (nullable = true)\n",
      " |-- delinq_pts: integer (nullable = true)\n",
      " |-- public_records_pts: integer (nullable = true)\n",
      " |-- public_bankruptcies_pts: integer (nullable = true)\n",
      " |-- enq_pts: integer (nullable = true)\n",
      " |-- loan_status_pts: integer (nullable = false)\n",
      " |-- home_pts: integer (nullable = true)\n",
      " |-- credit_limit_pts: integer (nullable = false)\n",
      " |-- grade_pts: decimal(12,2) (nullable = true)\n",
      "\n"
     ]
    }
   ],
   "source": [
    "fh_ldh_ph_df.printSchema()"
   ]
  },
  {
   "cell_type": "markdown",
   "id": "0a88e153-d4cf-4e09-b447-754f35e82881",
   "metadata": {},
   "source": [
    "<ul> Final Score :\n",
    "<li> Payment History = 20% </li>\n",
    "<li>Loan Defaults = 45% </li>\n",
    "<li> Financial Health = 35%</li>"
   ]
  },
  {
   "cell_type": "code",
   "execution_count": 32,
   "id": "0c62d35d-42f5-48e7-9cd8-cb0d26686d70",
   "metadata": {},
   "outputs": [],
   "source": [
    "loan_score = spark.sql(\"SELECT member_id, \\\n",
    "((last_payment_pts+total_payment_pts)*0.20) as payment_history_pts, \\\n",
    "((delinq_pts + public_records_pts + public_bankruptcies_pts + enq_pts) * 0.45) as defaulters_history_pts, \\\n",
    "((loan_status_pts + home_pts + credit_limit_pts + grade_pts)*0.35) as financial_health_pts \\\n",
    "FROM fh_ldh_ph_pts\")"
   ]
  },
  {
   "cell_type": "code",
   "execution_count": 33,
   "id": "f33a4f57-3bf7-4c36-ba53-2502716ff4ad",
   "metadata": {},
   "outputs": [
    {
     "name": "stderr",
     "output_type": "stream",
     "text": [
      "[Stage 31:>                                                         (0 + 1) / 1]\r"
     ]
    },
    {
     "name": "stdout",
     "output_type": "stream",
     "text": [
      "+--------------------+-------------------+----------------------+--------------------+\n",
      "|           member_id|payment_history_pts|defaulters_history_pts|financial_health_pts|\n",
      "+--------------------+-------------------+----------------------+--------------------+\n",
      "|000152208b3e77b5b...|             130.00|               1440.00|            665.0000|\n",
      "|0001cfa200f7480b9...|             130.00|                450.00|            665.0000|\n",
      "|00026136ec721b938...|             100.00|                945.00|            653.6250|\n",
      "|0004656412a18b9c1...|             130.00|               1192.50|            988.7500|\n",
      "|0004f290201c29d93...|             100.00|               1440.00|            682.5000|\n",
      "|0005c3b2e23d18d3a...|             130.00|                945.00|            759.5000|\n",
      "|0005f7eea1cc9ebeb...|             100.00|               1440.00|            672.0000|\n",
      "|00068d8b359a1a6e1...|             130.00|                945.00|            962.5000|\n",
      "|0006f75e5d4813efb...|             130.00|               1440.00|            735.0000|\n",
      "|00080cee8fe0f0414...|             130.00|                945.00|            642.2500|\n",
      "|00088763ac64ad2c2...|             100.00|               1440.00|            455.0000|\n",
      "|00089660c638fdffa...|             130.00|               1440.00|           1015.0000|\n",
      "|000b76a7fd404bd04...|             100.00|               1440.00|            794.5000|\n",
      "|000b815b1bb9d0682...|             130.00|                945.00|            714.0000|\n",
      "|000c698db15b35e1b...|             130.00|               1192.50|            630.0000|\n",
      "|000cd176f9dec761d...|             100.00|               1440.00|            717.5000|\n",
      "|000da8b825083572f...|             130.00|               1192.50|            863.6250|\n",
      "|000db9b641adb3474...|             130.00|                945.00|            717.5000|\n",
      "|000dd9052b29eef81...|             130.00|               1192.50|            717.5000|\n",
      "|000fff700a0a3f9bf...|             130.00|               1125.00|            840.8750|\n",
      "+--------------------+-------------------+----------------------+--------------------+\n",
      "only showing top 20 rows\n",
      "\n"
     ]
    },
    {
     "name": "stderr",
     "output_type": "stream",
     "text": [
      "                                                                                \r"
     ]
    }
   ],
   "source": [
    "loan_score.show()"
   ]
  },
  {
   "cell_type": "code",
   "execution_count": 34,
   "id": "84c7aa5d-2bf2-4586-ae03-5614c2c1e07f",
   "metadata": {},
   "outputs": [],
   "source": [
    "final_loan_score = loan_score.withColumn('loan_score', loan_score.payment_history_pts + loan_score.defaulters_history_pts + loan_score.financial_health_pts)"
   ]
  },
  {
   "cell_type": "code",
   "execution_count": 35,
   "id": "b153774b-6976-4401-b42f-59e7e64ba759",
   "metadata": {},
   "outputs": [],
   "source": [
    "final_loan_score.createOrReplaceTempView(\"loan_score_eval\")"
   ]
  },
  {
   "cell_type": "code",
   "execution_count": 36,
   "id": "7d40f33b-a015-4ad1-a342-ec875f761092",
   "metadata": {},
   "outputs": [],
   "source": [
    "loan_score_final = spark.sql(\"select ls.*, \\\n",
    "case \\\n",
    "WHEN loan_score > ${spark.sql.very_good_grade_pts} THEN 'A' \\\n",
    "WHEN loan_score <= ${spark.sql.very_good_grade_pts} AND loan_score > ${spark.sql.good_grade_pts} THEN 'B' \\\n",
    "WHEN loan_score <= ${spark.sql.good_grade_pts} AND loan_score > ${spark.sql.bad_grade_pts} THEN 'C' \\\n",
    "WHEN loan_score <= ${spark.sql.bad_grade_pts} AND loan_score  > ${spark.sql.very_bad_grade_pts} THEN 'D' \\\n",
    "WHEN loan_score <= ${spark.sql.very_bad_grade_pts} AND loan_score > ${spark.sql.unacceptable_grade_pts} THEN 'E'  \\\n",
    "WHEN loan_score <= ${spark.sql.unacceptable_grade_pts} THEN 'F' \\\n",
    "end as loan_final_grade \\\n",
    "from loan_score_eval ls\")"
   ]
  },
  {
   "cell_type": "code",
   "execution_count": 37,
   "id": "1b041f88-e4d3-4988-8b70-520a5c3d73b6",
   "metadata": {},
   "outputs": [],
   "source": [
    "loan_score_final.createOrReplaceTempView(\"loan_final_table\")"
   ]
  },
  {
   "cell_type": "code",
   "execution_count": 38,
   "id": "4189b16e-bc8f-4142-9a86-7b06eced4f61",
   "metadata": {},
   "outputs": [
    {
     "name": "stderr",
     "output_type": "stream",
     "text": [
      "                                                                                \r"
     ]
    }
   ],
   "source": [
    "loan_score_final.write \\\n",
    ".format(\"parquet\") \\\n",
    ".mode(\"overwrite\") \\\n",
    ".option(\"path\", \"/home/tushar/Documents/project/final_processed/loan_score\") \\\n",
    ".save()"
   ]
  },
  {
   "cell_type": "code",
   "execution_count": null,
   "id": "c16f62d4-baa5-4cd5-8285-6332d162d9c7",
   "metadata": {},
   "outputs": [],
   "source": []
  }
 ],
 "metadata": {
  "kernelspec": {
   "display_name": "spark",
   "language": "python",
   "name": "spark"
  },
  "language_info": {
   "codemirror_mode": {
    "name": "ipython",
    "version": 3
   },
   "file_extension": ".py",
   "mimetype": "text/x-python",
   "name": "python",
   "nbconvert_exporter": "python",
   "pygments_lexer": "ipython3",
   "version": "3.10.12"
  }
 },
 "nbformat": 4,
 "nbformat_minor": 5
}
