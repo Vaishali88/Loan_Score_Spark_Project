{
 "cells": [
  {
   "cell_type": "code",
   "execution_count": 1,
   "id": "85617626-1d58-47ca-b6cb-031d3c220466",
   "metadata": {},
   "outputs": [],
   "source": [
    "from pyspark.sql import SparkSession\n",
    "from pyspark.sql.functions import *"
   ]
  },
  {
   "cell_type": "code",
   "execution_count": 2,
   "id": "9dcebb98-bd6a-4c6a-8982-902174a50897",
   "metadata": {},
   "outputs": [
    {
     "name": "stderr",
     "output_type": "stream",
     "text": [
      "Warning: Ignoring non-Spark config property: spark\n",
      "Setting default log level to \"WARN\".\n",
      "To adjust logging level use sc.setLogLevel(newLevel). For SparkR, use setLogLevel(newLevel).\n"
     ]
    }
   ],
   "source": [
    "spark = SparkSession.builder.appName(\"customer\") \\\n",
    ".master(\"spark://10.208.36.84:7077\") \\\n",
    ".config(\"spark.hadoop.defaultFS\",\"hdfs://10.208.36.84:9000\") \\\n",
    ".config(\"spark.executor.cores\",2) \\\n",
    ".config(\"spark.executor.memory\",\"4g\") \\\n",
    ".config(\"spark.cores.max\",\"10\") \\\n",
    ".getOrCreate()\n"
   ]
  },
  {
   "cell_type": "code",
   "execution_count": null,
   "id": "ad078442-60cb-42ac-b53e-081bce9cd0a9",
   "metadata": {},
   "outputs": [],
   "source": []
  },
  {
   "cell_type": "code",
   "execution_count": 3,
   "id": "c7b7009b-9545-49ae-9a37-7c358d9500b7",
   "metadata": {},
   "outputs": [],
   "source": [
    "customer_schema = 'member_id string, emp_title string, emp_length string, home_ownership string, annual_inc float, addr_state string, zip_code string, country string, grade string, sub_grade string, verification_status string, tot_hi_cred_lim float, application_type string, annual_inc_joint float, verification_status_joint string'"
   ]
  },
  {
   "cell_type": "code",
   "execution_count": 4,
   "id": "74755c8f-d7e5-4c6b-8876-066caa0e670d",
   "metadata": {},
   "outputs": [],
   "source": [
    "df = spark.read.format(\"csv\").option(\"header\",\"true\") \\\n",
    ".schema(customer_schema) \\\n",
    ".load(\"/home/tushar/Documents/project/customer_raw\")"
   ]
  },
  {
   "cell_type": "code",
   "execution_count": 5,
   "id": "1a6006eb-bdb4-43db-9c5c-3a1a6c38c439",
   "metadata": {},
   "outputs": [
    {
     "name": "stdout",
     "output_type": "stream",
     "text": [
      "root\n",
      " |-- member_id: string (nullable = true)\n",
      " |-- emp_title: string (nullable = true)\n",
      " |-- emp_length: string (nullable = true)\n",
      " |-- home_ownership: string (nullable = true)\n",
      " |-- annual_inc: float (nullable = true)\n",
      " |-- addr_state: string (nullable = true)\n",
      " |-- zip_code: string (nullable = true)\n",
      " |-- country: string (nullable = true)\n",
      " |-- grade: string (nullable = true)\n",
      " |-- sub_grade: string (nullable = true)\n",
      " |-- verification_status: string (nullable = true)\n",
      " |-- tot_hi_cred_lim: float (nullable = true)\n",
      " |-- application_type: string (nullable = true)\n",
      " |-- annual_inc_joint: float (nullable = true)\n",
      " |-- verification_status_joint: string (nullable = true)\n",
      "\n"
     ]
    }
   ],
   "source": [
    "df.printSchema()"
   ]
  },
  {
   "cell_type": "code",
   "execution_count": 6,
   "id": "cb64c0b4-3b06-4736-b69d-c87e116df0d4",
   "metadata": {},
   "outputs": [
    {
     "name": "stderr",
     "output_type": "stream",
     "text": [
      "                                                                                \r"
     ]
    },
    {
     "data": {
      "text/plain": [
       "868845"
      ]
     },
     "execution_count": 6,
     "metadata": {},
     "output_type": "execute_result"
    }
   ],
   "source": [
    "df.count()"
   ]
  },
  {
   "cell_type": "code",
   "execution_count": 7,
   "id": "d1821082-c512-4007-9598-61fd4e42ca73",
   "metadata": {},
   "outputs": [
    {
     "name": "stdout",
     "output_type": "stream",
     "text": [
      "+--------------------+--------------------+----------+--------------+----------+----------+--------+-------+-----+---------+-------------------+---------------+----------------+----------------+-------------------------+\n",
      "|           member_id|           emp_title|emp_length|home_ownership|annual_inc|addr_state|zip_code|country|grade|sub_grade|verification_status|tot_hi_cred_lim|application_type|annual_inc_joint|verification_status_joint|\n",
      "+--------------------+--------------------+----------+--------------+----------+----------+--------+-------+-----+---------+-------------------+---------------+----------------+----------------+-------------------------+\n",
      "|6d5091b3fcaaeb4ea...|             leadman| 10+ years|      MORTGAGE|   55000.0|        PA|   190xx|    USA|    C|       C4|       Not Verified|       178050.0|      Individual|            null|                     null|\n",
      "|b5e7938b0a2da4cea...|            Engineer| 10+ years|      MORTGAGE|   65000.0|        SD|   577xx|    USA|    C|       C1|       Not Verified|       314017.0|      Individual|            null|                     null|\n",
      "|91060b858433e8a61...|        truck driver| 10+ years|      MORTGAGE|   63000.0|        IL|   605xx|    USA|    B|       B4|       Not Verified|       218418.0|       Joint App|         71000.0|             Not Verified|\n",
      "|cab1fa9f533688b0a...|Information Syste...| 10+ years|      MORTGAGE|  110000.0|        NJ|   076xx|    USA|    C|       C5|    Source Verified|       381215.0|      Individual|            null|                     null|\n",
      "|f74e401c1ab0adf78...| Contract Specialist|   3 years|      MORTGAGE|  104433.0|        PA|   174xx|    USA|    F|       F1|    Source Verified|       439570.0|      Individual|            null|                     null|\n",
      "|8aef4bb29d609d8d6...|Veterinary Tecnician|   4 years|          RENT|   34000.0|        GA|   300xx|    USA|    C|       C3|    Source Verified|        16900.0|      Individual|            null|                     null|\n",
      "|538b4653da3b1e814...|Vice President of...| 10+ years|      MORTGAGE|  180000.0|        MN|   550xx|    USA|    B|       B2|       Not Verified|       388852.0|      Individual|            null|                     null|\n",
      "|b24d55f21390533c5...|         road driver| 10+ years|      MORTGAGE|   85000.0|        SC|   293xx|    USA|    B|       B1|       Not Verified|       193390.0|      Individual|            null|                     null|\n",
      "|1035c5401b0ca76d0...|     SERVICE MANAGER|   6 years|          RENT|   85000.0|        PA|   160xx|    USA|    A|       A2|       Not Verified|        61099.0|      Individual|            null|                     null|\n",
      "|cb0f1777593e77909...|      Vendor liaison| 10+ years|      MORTGAGE|   42000.0|        RI|   029xx|    USA|    B|       B5|       Not Verified|       256513.0|      Individual|            null|                     null|\n",
      "|a962f4d59caec5fa1...|  Executive Director|   6 years|      MORTGAGE|   95000.0|        SC|   290xx|    USA|    C|       C2|       Not Verified|       436841.0|      Individual|            null|                     null|\n",
      "|e7592ab57b3afd9f1...|Senior Structural...|    1 year|      MORTGAGE|   70000.0|        TX|   786xx|    USA|    C|       C2|       Not Verified|       309638.0|      Individual|            null|                     null|\n",
      "|603afa9d1be879b7b...|   Logistics Manager|   3 years|      MORTGAGE|   64000.0|        NC|   275xx|    USA|    C|       C2|       Not Verified|       372109.0|      Individual|            null|                     null|\n",
      "|9fe2d59ddf2a4f37e...|    Software Manager|   7 years|          RENT|  150000.0|        CA|   916xx|    USA|    E|       E2|       Not Verified|        65819.0|      Individual|            null|                     null|\n",
      "|23857480ccf555ce4...|      Senior Manager| 10+ years|      MORTGAGE|   92000.0|        NC|   275xx|    USA|    A|       A2|       Not Verified|       304003.0|      Individual|            null|                     null|\n",
      "|7c69d5f36fdabf6e1...|                tech|   8 years|      MORTGAGE|   60000.0|        SC|   299xx|    USA|    A|       A4|       Not Verified|        88635.0|      Individual|            null|                     null|\n",
      "|08bf9e080503b0113...|       Sales Manager| 10+ years|      MORTGAGE|  109000.0|        VA|   226xx|    USA|    A|       A4|       Not Verified|       373572.0|      Individual|            null|                     null|\n",
      "|1cafb05aa6c894c30...|               GS-11| 10+ years|      MORTGAGE|  112000.0|        AZ|   856xx|    USA|    C|       C1|       Not Verified|       309710.0|      Individual|            null|                     null|\n",
      "|f2c4010f700d8c9c4...|             Teacher|   5 years|          RENT|   64000.0|        NY|   117xx|    USA|    B|       B1|       Not Verified|        93962.0|      Individual|            null|                     null|\n",
      "|05ad4aed7c393035e...| Program Coordinator|   8 years|          RENT|   55000.0|        IN|   462xx|    USA|    E|       E3|           Verified|        38998.0|      Individual|            null|                     null|\n",
      "+--------------------+--------------------+----------+--------------+----------+----------+--------+-------+-----+---------+-------------------+---------------+----------------+----------------+-------------------------+\n",
      "only showing top 20 rows\n",
      "\n"
     ]
    }
   ],
   "source": [
    "df.show()"
   ]
  },
  {
   "cell_type": "code",
   "execution_count": 8,
   "id": "c4266a77-6af4-4397-a5e7-be25fcc762f8",
   "metadata": {},
   "outputs": [],
   "source": [
    "df = df.withColumnRenamed(\"annual_inc\",\"annual_income\") \\\n",
    ".withColumnRenamed(\"addr_state\",\"address_state\") \\\n",
    ".withColumnRenamed(\"zip_cod\",\"address_zipcode\") \\\n",
    ".withColumnRenamed(\"country\",\"address_country\") \\\n",
    ".withColumnRenamed(\"tot_hi_cred_lim\",\"total_high_credit_limit\") \\\n",
    ".withColumnRenamed(\"annual_ic_joint\",\"join_annual_income\")"
   ]
  },
  {
   "cell_type": "code",
   "execution_count": 9,
   "id": "0413707a-b1d5-4ec8-bfe1-42d1ad1ff8c3",
   "metadata": {},
   "outputs": [
    {
     "name": "stdout",
     "output_type": "stream",
     "text": [
      "root\n",
      " |-- member_id: string (nullable = true)\n",
      " |-- emp_title: string (nullable = true)\n",
      " |-- emp_length: string (nullable = true)\n",
      " |-- home_ownership: string (nullable = true)\n",
      " |-- annual_income: float (nullable = true)\n",
      " |-- address_state: string (nullable = true)\n",
      " |-- zip_code: string (nullable = true)\n",
      " |-- address_country: string (nullable = true)\n",
      " |-- grade: string (nullable = true)\n",
      " |-- sub_grade: string (nullable = true)\n",
      " |-- verification_status: string (nullable = true)\n",
      " |-- total_high_credit_limit: float (nullable = true)\n",
      " |-- application_type: string (nullable = true)\n",
      " |-- annual_inc_joint: float (nullable = true)\n",
      " |-- verification_status_joint: string (nullable = true)\n",
      "\n"
     ]
    }
   ],
   "source": [
    "df.printSchema()"
   ]
  },
  {
   "cell_type": "code",
   "execution_count": 10,
   "id": "51120b28-32f3-43ec-86ce-e96c3be61dbc",
   "metadata": {},
   "outputs": [],
   "source": [
    "df = df.withColumn(\"ingestion_date\",current_timestamp())"
   ]
  },
  {
   "cell_type": "code",
   "execution_count": 11,
   "id": "d043738e-22fa-4929-8942-8cc28c8eb45a",
   "metadata": {},
   "outputs": [],
   "source": [
    "dfdistinct = df.drop_duplicates()"
   ]
  },
  {
   "cell_type": "code",
   "execution_count": 12,
   "id": "7b57b524-cc22-48cf-833c-2ef014e406c1",
   "metadata": {},
   "outputs": [
    {
     "name": "stdout",
     "output_type": "stream",
     "text": [
      "root\n",
      " |-- member_id: string (nullable = true)\n",
      " |-- emp_title: string (nullable = true)\n",
      " |-- emp_length: string (nullable = true)\n",
      " |-- home_ownership: string (nullable = true)\n",
      " |-- annual_income: float (nullable = true)\n",
      " |-- address_state: string (nullable = true)\n",
      " |-- zip_code: string (nullable = true)\n",
      " |-- address_country: string (nullable = true)\n",
      " |-- grade: string (nullable = true)\n",
      " |-- sub_grade: string (nullable = true)\n",
      " |-- verification_status: string (nullable = true)\n",
      " |-- total_high_credit_limit: float (nullable = true)\n",
      " |-- application_type: string (nullable = true)\n",
      " |-- annual_inc_joint: float (nullable = true)\n",
      " |-- verification_status_joint: string (nullable = true)\n",
      " |-- ingestion_date: timestamp (nullable = false)\n",
      "\n"
     ]
    }
   ],
   "source": [
    "dfdistinct.printSchema()"
   ]
  },
  {
   "cell_type": "code",
   "execution_count": null,
   "id": "72349db6-bdd0-4c2e-821f-96524a1f1009",
   "metadata": {},
   "outputs": [],
   "source": []
  },
  {
   "cell_type": "code",
   "execution_count": 13,
   "id": "cee0974c-8d7b-4fd6-a564-f9c50d40b8ba",
   "metadata": {},
   "outputs": [
    {
     "name": "stderr",
     "output_type": "stream",
     "text": [
      "                                                                                \r"
     ]
    },
    {
     "data": {
      "text/plain": [
       "868832"
      ]
     },
     "execution_count": 13,
     "metadata": {},
     "output_type": "execute_result"
    }
   ],
   "source": [
    "dfdistinct.count()"
   ]
  },
  {
   "cell_type": "markdown",
   "id": "29968916-28cc-412f-a797-b43f78257835",
   "metadata": {},
   "source": [
    "<p> Total No. of duplicates rows are 13 </p>"
   ]
  },
  {
   "cell_type": "code",
   "execution_count": 14,
   "id": "707644e4-5336-4129-bdec-2dde627738b3",
   "metadata": {},
   "outputs": [],
   "source": [
    "dfannual = dfdistinct.where(col('annual_income').isNotNull())"
   ]
  },
  {
   "cell_type": "code",
   "execution_count": 15,
   "id": "0e938c28-832c-4f90-9001-fe691625bc4b",
   "metadata": {},
   "outputs": [
    {
     "name": "stderr",
     "output_type": "stream",
     "text": [
      "                                                                                \r"
     ]
    },
    {
     "data": {
      "text/plain": [
       "868830"
      ]
     },
     "execution_count": 15,
     "metadata": {},
     "output_type": "execute_result"
    }
   ],
   "source": [
    "dfannual.count()"
   ]
  },
  {
   "cell_type": "markdown",
   "id": "51cf2770-d8b8-40c9-917b-ecd7ec69f757",
   "metadata": {},
   "source": [
    "<p> Total Number of Null values in annual income column was 2</p>"
   ]
  },
  {
   "cell_type": "code",
   "execution_count": 16,
   "id": "13a189bb-d989-4fa5-86ad-68016f53a171",
   "metadata": {},
   "outputs": [],
   "source": [
    "df = df.withColumn(\"emp_length\",regexp_replace(col(\"emp_length\"),\"(\\D)\",\"\"))"
   ]
  },
  {
   "cell_type": "code",
   "execution_count": 17,
   "id": "f8538802-1885-45c4-a9aa-b881b96009e0",
   "metadata": {},
   "outputs": [
    {
     "name": "stdout",
     "output_type": "stream",
     "text": [
      "+----------+\n",
      "|emp_length|\n",
      "+----------+\n",
      "|        10|\n",
      "|        10|\n",
      "|        10|\n",
      "|        10|\n",
      "|         3|\n",
      "|         4|\n",
      "|        10|\n",
      "|        10|\n",
      "|         6|\n",
      "|        10|\n",
      "|         6|\n",
      "|         1|\n",
      "|         3|\n",
      "|         7|\n",
      "|        10|\n",
      "|         8|\n",
      "|        10|\n",
      "|        10|\n",
      "|         5|\n",
      "|         8|\n",
      "+----------+\n",
      "only showing top 20 rows\n",
      "\n"
     ]
    }
   ],
   "source": [
    "df.select(\"emp_length\").show()"
   ]
  },
  {
   "cell_type": "code",
   "execution_count": 19,
   "id": "026d28c9-b78b-4e7d-b63e-9da59c7120f6",
   "metadata": {},
   "outputs": [],
   "source": [
    "df = df.withColumn(\"emp_length\",col(\"emp_length\").cast('int'))"
   ]
  },
  {
   "cell_type": "code",
   "execution_count": 20,
   "id": "3a665719-ef0e-4c1b-9d28-8df958fa8a02",
   "metadata": {},
   "outputs": [
    {
     "name": "stdout",
     "output_type": "stream",
     "text": [
      "root\n",
      " |-- member_id: string (nullable = true)\n",
      " |-- emp_title: string (nullable = true)\n",
      " |-- emp_length: integer (nullable = true)\n",
      " |-- home_ownership: string (nullable = true)\n",
      " |-- annual_income: float (nullable = true)\n",
      " |-- address_state: string (nullable = true)\n",
      " |-- zip_code: string (nullable = true)\n",
      " |-- address_country: string (nullable = true)\n",
      " |-- grade: string (nullable = true)\n",
      " |-- sub_grade: string (nullable = true)\n",
      " |-- verification_status: string (nullable = true)\n",
      " |-- total_high_credit_limit: float (nullable = true)\n",
      " |-- application_type: string (nullable = true)\n",
      " |-- annual_inc_joint: float (nullable = true)\n",
      " |-- verification_status_joint: string (nullable = true)\n",
      " |-- ingestion_date: timestamp (nullable = false)\n",
      "\n"
     ]
    }
   ],
   "source": [
    "df.printSchema()"
   ]
  },
  {
   "cell_type": "markdown",
   "id": "3db2e570-cfe9-4989-8146-488e97fed7e6",
   "metadata": {},
   "source": [
    "<p> In emp length, replacing the null values with avg of the emp_length.</p>"
   ]
  },
  {
   "cell_type": "code",
   "execution_count": 36,
   "id": "4fc9efa2-dd31-484c-9eb9-fab165060643",
   "metadata": {},
   "outputs": [
    {
     "name": "stderr",
     "output_type": "stream",
     "text": [
      "                                                                                \r"
     ]
    }
   ],
   "source": [
    "avgemp = df.agg({\"emp_length\": \"avg\"}).collect()"
   ]
  },
  {
   "cell_type": "code",
   "execution_count": 37,
   "id": "3dfd12e5-016d-4471-a391-dd21b4f88251",
   "metadata": {},
   "outputs": [
    {
     "data": {
      "text/plain": [
       "[Row(avg(emp_length)=6.027526296574045)]"
      ]
     },
     "execution_count": 37,
     "metadata": {},
     "output_type": "execute_result"
    }
   ],
   "source": [
    "avgemp"
   ]
  },
  {
   "cell_type": "code",
   "execution_count": 40,
   "id": "afb7a165-7a34-4db1-afd0-1379c3bf1fcf",
   "metadata": {},
   "outputs": [],
   "source": [
    "df.createOrReplaceTempView('customer')"
   ]
  },
  {
   "cell_type": "code",
   "execution_count": 43,
   "id": "fbb4adc7-3ecd-4473-8984-cce45082beae",
   "metadata": {},
   "outputs": [],
   "source": [
    "avgempl = spark.sql(\"select floor(avg(emp_length)) from customer\").collect()"
   ]
  },
  {
   "cell_type": "code",
   "execution_count": 44,
   "id": "af853100-884e-4adf-aefa-9c4f34c6bc3c",
   "metadata": {},
   "outputs": [
    {
     "data": {
      "text/plain": [
       "[Row(FLOOR(avg(emp_length))=6)]"
      ]
     },
     "execution_count": 44,
     "metadata": {},
     "output_type": "execute_result"
    }
   ],
   "source": [
    "avgempl"
   ]
  },
  {
   "cell_type": "code",
   "execution_count": 45,
   "id": "7ea497b1-46d6-43ed-8249-a3b7b4dd6257",
   "metadata": {},
   "outputs": [
    {
     "name": "stdout",
     "output_type": "stream",
     "text": [
      "6\n"
     ]
    }
   ],
   "source": [
    "print(avgempl[0][0])"
   ]
  },
  {
   "cell_type": "code",
   "execution_count": 46,
   "id": "d229f966-4d7f-4811-a9a8-42c29600ec0a",
   "metadata": {},
   "outputs": [],
   "source": [
    "avgempduration = avgempl[0][0]"
   ]
  },
  {
   "cell_type": "code",
   "execution_count": 47,
   "id": "5ece0ab4-c21a-4e77-a494-48716496befc",
   "metadata": {},
   "outputs": [],
   "source": [
    "customer_df = df.na.fill(avgempduration,subset=['emp_length'])"
   ]
  },
  {
   "cell_type": "code",
   "execution_count": 48,
   "id": "ea548c5e-a8af-4d7d-ac81-44038c0fea21",
   "metadata": {},
   "outputs": [],
   "source": [
    "addr_df = customer_df.withColumn(\"address_state\",when(length(col(\"address_state\")) > 2, \"NA\").otherwise(col(\"address_state\")))"
   ]
  },
  {
   "cell_type": "code",
   "execution_count": 49,
   "id": "1c5eea46-5d3f-4e08-9923-2641e696a443",
   "metadata": {},
   "outputs": [
    {
     "name": "stdout",
     "output_type": "stream",
     "text": [
      "+-------------+\n",
      "|address_state|\n",
      "+-------------+\n",
      "|           SC|\n",
      "|           AZ|\n",
      "|           LA|\n",
      "|           MN|\n",
      "|           NJ|\n",
      "|           DC|\n",
      "|           OR|\n",
      "|           VA|\n",
      "|           RI|\n",
      "|           WY|\n",
      "|           KY|\n",
      "|           NH|\n",
      "|           MI|\n",
      "|           NV|\n",
      "|           WI|\n",
      "|           CA|\n",
      "|           NE|\n",
      "|           CT|\n",
      "|           MT|\n",
      "|           NC|\n",
      "+-------------+\n",
      "only showing top 20 rows\n",
      "\n"
     ]
    }
   ],
   "source": [
    "addr_df.select(\"address_state\").distinct().show()"
   ]
  },
  {
   "cell_type": "code",
   "execution_count": 52,
   "id": "bf8ccd9d-f2ba-4ccd-be63-f5696dd73522",
   "metadata": {},
   "outputs": [
    {
     "name": "stderr",
     "output_type": "stream",
     "text": [
      "                                                                                \r"
     ]
    }
   ],
   "source": [
    "addr_df.write.format(\"parquet\").mode(\"overwrite\").option(\"path\",\"/home/tushar/Documents/project/cleaned_customer/parquet\").save()"
   ]
  },
  {
   "cell_type": "code",
   "execution_count": 53,
   "id": "185a5973-f819-433c-a037-799df6dca6da",
   "metadata": {},
   "outputs": [
    {
     "name": "stderr",
     "output_type": "stream",
     "text": [
      "                                                                                \r"
     ]
    }
   ],
   "source": [
    "addr_df.write.format(\"csv\").mode(\"overwrite\").option(\"path\",\"/home/tushar/Documents/project/cleaned_customer/csv\").save()"
   ]
  },
  {
   "cell_type": "code",
   "execution_count": null,
   "id": "1b5ff966-f9d4-462d-9848-3b6bd6ad6507",
   "metadata": {},
   "outputs": [],
   "source": []
  }
 ],
 "metadata": {
  "kernelspec": {
   "display_name": "spark",
   "language": "python",
   "name": "spark"
  },
  "language_info": {
   "codemirror_mode": {
    "name": "ipython",
    "version": 3
   },
   "file_extension": ".py",
   "mimetype": "text/x-python",
   "name": "python",
   "nbconvert_exporter": "python",
   "pygments_lexer": "ipython3",
   "version": "3.10.12"
  }
 },
 "nbformat": 4,
 "nbformat_minor": 5
}
