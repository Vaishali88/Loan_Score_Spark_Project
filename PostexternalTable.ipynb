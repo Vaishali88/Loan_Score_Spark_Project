{
 "cells": [
  {
   "cell_type": "code",
   "execution_count": 1,
   "id": "2f1a207d-551f-4838-a203-d7681cecb981",
   "metadata": {},
   "outputs": [],
   "source": [
    "from pyspark.sql import SparkSession\n",
    "from pyspark.sql.functions import *"
   ]
  },
  {
   "cell_type": "code",
   "execution_count": 2,
   "id": "ee29c4e2-7778-4fa9-874e-0ada45d96b3c",
   "metadata": {},
   "outputs": [
    {
     "name": "stderr",
     "output_type": "stream",
     "text": [
      "Warning: Ignoring non-Spark config property: spark\n",
      "Setting default log level to \"WARN\".\n",
      "To adjust logging level use sc.setLogLevel(newLevel). For SparkR, use setLogLevel(newLevel).\n",
      "24/03/21 12:26:40 WARN Utils: Service 'SparkUI' could not bind on port 4040. Attempting port 4041.\n"
     ]
    }
   ],
   "source": [
    "spark = SparkSession.builder.appName(\"loans\") \\\n",
    ".master(\"spark://10.208.36.84:7077\") \\\n",
    ".config(\"spark.hadoop.defaultFS\",\"hdfs://10.208.36.84:9000\") \\\n",
    ".config(\"spark.sql.warehouse.dir\",\"/home/hadoop/spark_workspace/shared_folder/tushar/Tables_data\")\\\n",
    ".config(\"spark.executor.cores\",2) \\\n",
    ".config(\"spark.executor.memory\",\"4g\") \\\n",
    ".config(\"spark.cores.max\",\"8\") \\\n",
    ".enableHiveSupport() \\\n",
    ".getOrCreate()"
   ]
  },
  {
   "cell_type": "code",
   "execution_count": 3,
   "id": "8ab97fed-38f5-48eb-8d44-6fb9bdee1988",
   "metadata": {},
   "outputs": [
    {
     "data": {
      "text/plain": [
       "DataFrame[]"
      ]
     },
     "execution_count": 3,
     "metadata": {},
     "output_type": "execute_result"
    }
   ],
   "source": [
    "spark.sql(\"use project_trendy\")"
   ]
  },
  {
   "cell_type": "code",
   "execution_count": 5,
   "id": "c9d4e5b9-78fc-4ba0-b1b3-43a96c278a71",
   "metadata": {},
   "outputs": [
    {
     "name": "stderr",
     "output_type": "stream",
     "text": [
      "[Stage 1:==============>                                            (1 + 3) / 4]\r"
     ]
    },
    {
     "name": "stdout",
     "output_type": "stream",
     "text": [
      "+--------------+--------------------+-----------+\n",
      "|     namespace|           tableName|isTemporary|\n",
      "+--------------+--------------------+-----------+\n",
      "|project_trendy|           customers|      false|\n",
      "|project_trendy|      customers_loan|      false|\n",
      "|project_trendy|    customers_loan_v|      false|\n",
      "|project_trendy|               loans|      false|\n",
      "|project_trendy|loans_defaulters_...|      false|\n",
      "|project_trendy|loans_defaulters_...|      false|\n",
      "|project_trendy|    loans_repayments|      false|\n",
      "+--------------+--------------------+-----------+\n",
      "\n"
     ]
    },
    {
     "name": "stderr",
     "output_type": "stream",
     "text": [
      "                                                                                \r"
     ]
    }
   ],
   "source": [
    "spark.sql(\"show tables\").show()"
   ]
  },
  {
   "cell_type": "code",
   "execution_count": 7,
   "id": "623506ff-d0be-4b2d-b28d-62524b9db8a4",
   "metadata": {},
   "outputs": [
    {
     "data": {
      "text/plain": [
       "DataFrame[]"
      ]
     },
     "execution_count": 7,
     "metadata": {},
     "output_type": "execute_result"
    }
   ],
   "source": [
    "spark.sql(\"drop table project_trendy.customers\")"
   ]
  },
  {
   "cell_type": "code",
   "execution_count": 8,
   "id": "57bb7853-b875-47f4-8409-9de696fed01e",
   "metadata": {},
   "outputs": [
    {
     "data": {
      "text/plain": [
       "DataFrame[]"
      ]
     },
     "execution_count": 8,
     "metadata": {},
     "output_type": "execute_result"
    }
   ],
   "source": [
    "spark.sql(\"\"\"create external table project_trendy.customers (member_id string, emp_title string,\n",
    "emp_length int, home_ownership string, annual_income float, address_state string, address_zipcode string,\n",
    "address_country string, grade string, sub_grade string, verification_status string, total_high_credit_limit\n",
    "float, application_type string, join_annual_income float, verification_status_joint string) stored\n",
    "as parquet location '/home/tushar/Documents/project/cleaned_customer/parquet' \"\"\")"
   ]
  },
  {
   "cell_type": "code",
   "execution_count": 9,
   "id": "b31e4a8d-869f-47e0-a2f3-3159e348acba",
   "metadata": {},
   "outputs": [
    {
     "data": {
      "text/plain": [
       "DataFrame[]"
      ]
     },
     "execution_count": 9,
     "metadata": {},
     "output_type": "execute_result"
    }
   ],
   "source": [
    "spark.sql(\"\"\"create external table project_trendy.new_customer(member_id string, emp_title string,\n",
    "emp_length int, home_ownership string, annual_income float, address_state string, address_zipcode string,\n",
    "address_country string, grade string, sub_grade string, verification_status string, total_high_credit_limit\n",
    "float, application_type string, join_annual_income float, verification_status_joint string) stored as parquet\n",
    "location '/home/tushar/Documents/project/removed_bad_data/customer/' \"\"\")"
   ]
  },
  {
   "cell_type": "code",
   "execution_count": 10,
   "id": "61781d41-5627-44b3-8af2-f296200d7c64",
   "metadata": {},
   "outputs": [
    {
     "data": {
      "text/plain": [
       "DataFrame[]"
      ]
     },
     "execution_count": 10,
     "metadata": {},
     "output_type": "execute_result"
    }
   ],
   "source": [
    "spark.sql(\"\"\"\n",
    "CREATE EXTERNAL TABLE\n",
    "project_trendy.new_loans_defaulters_delinq(member_id\n",
    "string,delinq_2yrs integer,delinq_amnt float,mths_since_last_delinq integer)\n",
    "stored as parquet\n",
    "LOCATION\n",
    "'/home/tushar/Documents/project/removed_bad_data/default_detail'\n",
    "\"\"\")"
   ]
  },
  {
   "cell_type": "code",
   "execution_count": 5,
   "id": "814b4029-166f-48ac-8ad1-bfb1a8923fb2",
   "metadata": {},
   "outputs": [
    {
     "data": {
      "text/plain": [
       "DataFrame[]"
      ]
     },
     "execution_count": 5,
     "metadata": {},
     "output_type": "execute_result"
    }
   ],
   "source": [
    "spark.sql(\"drop table project_trendy.new_loans_defaulters_detail_rec_enq\")"
   ]
  },
  {
   "cell_type": "code",
   "execution_count": 6,
   "id": "36b5f72f-fe58-49e3-97a6-c494ce00f0ae",
   "metadata": {},
   "outputs": [
    {
     "data": {
      "text/plain": [
       "DataFrame[]"
      ]
     },
     "execution_count": 6,
     "metadata": {},
     "output_type": "execute_result"
    }
   ],
   "source": [
    "spark.sql(\"\"\"\n",
    "CREATE EXTERNAL TABLE\n",
    "project_trendy.new_loans_defaulters_detail_rec_enq(member_id string,\n",
    "pub_rec integer, pub_rec_bankruptcies integer, inq_last_6mths integer) stored\n",
    "as parquet\n",
    "LOCATION\n",
    "'/home/tushar/Documents/project/cleaned_def_enq_detail/parquet'\n",
    "\"\"\")"
   ]
  },
  {
   "cell_type": "code",
   "execution_count": 11,
   "id": "a9545cc3-3fb4-478a-9fe2-8eba427bd789",
   "metadata": {},
   "outputs": [
    {
     "name": "stdout",
     "output_type": "stream",
     "text": [
      "+---------+------------------------+-----------------------+-----------------------+----------------------+-------------------+-----------------+-----------------+--------------------+\n",
      "|  loan_id|total_principal_received|total_interest_received|total_late_fee_received|total_payment_received|last_payment_amount|last_payment_date|next_payment_date|         ingest_date|\n",
      "+---------+------------------------+-----------------------+-----------------------+----------------------+-------------------+-----------------+-----------------+--------------------+\n",
      "|113822370|                 6778.08|                2543.93|                    0.0|               9322.01|              333.6|         Mar-2019|         Apr-2019|2024-03-21 11:55:...|\n",
      "|113819258|                  3600.0|                 474.95|                    0.0|             4074.9456|            1625.64|         Mar-2019|             null|2024-03-21 11:55:...|\n",
      "+---------+------------------------+-----------------------+-----------------------+----------------------+-------------------+-----------------+-----------------+--------------------+\n",
      "\n"
     ]
    }
   ],
   "source": [
    "spark.sql(\"select * from project_trendy.loans_repayments limit 2\").show()"
   ]
  },
  {
   "cell_type": "code",
   "execution_count": null,
   "id": "78e61c1b-7a33-4837-b4cf-2620b502ef87",
   "metadata": {},
   "outputs": [],
   "source": []
  }
 ],
 "metadata": {
  "kernelspec": {
   "display_name": "spark",
   "language": "python",
   "name": "spark"
  },
  "language_info": {
   "codemirror_mode": {
    "name": "ipython",
    "version": 3
   },
   "file_extension": ".py",
   "mimetype": "text/x-python",
   "name": "python",
   "nbconvert_exporter": "python",
   "pygments_lexer": "ipython3",
   "version": "3.10.12"
  }
 },
 "nbformat": 4,
 "nbformat_minor": 5
}
