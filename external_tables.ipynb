{
 "cells": [
  {
   "cell_type": "code",
   "execution_count": 1,
   "id": "f900aaad-8e0f-4008-bf6d-2ac1465ea80a",
   "metadata": {},
   "outputs": [],
   "source": [
    "from pyspark.sql import SparkSession"
   ]
  },
  {
   "cell_type": "code",
   "execution_count": null,
   "id": "fc777666-8825-418c-8019-f8dd4c134792",
   "metadata": {},
   "outputs": [],
   "source": []
  },
  {
   "cell_type": "code",
   "execution_count": 2,
   "id": "b2f9865c-ebe6-4b77-b518-a322294be5d6",
   "metadata": {},
   "outputs": [
    {
     "name": "stderr",
     "output_type": "stream",
     "text": [
      "Warning: Ignoring non-Spark config property: spark\n",
      "Setting default log level to \"WARN\".\n",
      "To adjust logging level use sc.setLogLevel(newLevel). For SparkR, use setLogLevel(newLevel).\n"
     ]
    }
   ],
   "source": [
    "spark = SparkSession.builder.appName(\"loans\") \\\n",
    ".master(\"spark://10.208.36.84:7077\") \\\n",
    ".config(\"spark.hadoop.defaultFS\",\"hdfs://10.208.36.84:9000\") \\\n",
    ".config(\"spark.sql.warehouse.dir\",\"/home/hadoop/spark_workspace/shared_folder/tushar/Tables_data\")\\\n",
    ".config(\"spark.executor.cores\",2) \\\n",
    ".config(\"spark.executor.memory\",\"4g\") \\\n",
    ".config(\"spark.cores.max\",\"8\") \\\n",
    ".enableHiveSupport() \\\n",
    ".getOrCreate()"
   ]
  },
  {
   "cell_type": "code",
   "execution_count": 26,
   "id": "5bfc2db3-aa60-4a06-bd38-983094306522",
   "metadata": {},
   "outputs": [
    {
     "name": "stderr",
     "output_type": "stream",
     "text": [
      "                                                                                \r"
     ]
    }
   ],
   "source": [
    "customer_df = spark.read \\\n",
    ".load(\"/home/tushar/Documents/project/cleaned_customer/parquet\")"
   ]
  },
  {
   "cell_type": "code",
   "execution_count": 27,
   "id": "5988eae0-8e74-4790-a778-5b0f3a6c33f1",
   "metadata": {},
   "outputs": [
    {
     "data": {
      "text/plain": [
       "DataFrame[]"
      ]
     },
     "execution_count": 27,
     "metadata": {},
     "output_type": "execute_result"
    }
   ],
   "source": [
    "spark.sql(\"create database project_trendy\")"
   ]
  },
  {
   "cell_type": "code",
   "execution_count": 3,
   "id": "08f0f4ac-cb7f-4307-b325-704d636b8a5b",
   "metadata": {},
   "outputs": [
    {
     "data": {
      "text/plain": [
       "DataFrame[]"
      ]
     },
     "execution_count": 3,
     "metadata": {},
     "output_type": "execute_result"
    }
   ],
   "source": [
    "spark.sql(\"use  project_trendy\")"
   ]
  },
  {
   "cell_type": "code",
   "execution_count": 11,
   "id": "3075ba69-43cf-4768-95e7-9d13ccb0d676",
   "metadata": {},
   "outputs": [
    {
     "data": {
      "text/plain": [
       "DataFrame[]"
      ]
     },
     "execution_count": 11,
     "metadata": {},
     "output_type": "execute_result"
    }
   ],
   "source": [
    "spark.sql(\"drop table project_trendy.customers\")"
   ]
  },
  {
   "cell_type": "code",
   "execution_count": null,
   "id": "fd797719-38a2-426e-88ee-8dc0d559f541",
   "metadata": {},
   "outputs": [],
   "source": [
    "spark.sql(\"\"\"create external table project_trendy.customers (member_id string, emp_title string,\n",
    "emp_length int, home_ownership string, annual_income float, address_state string, address_zipcode string,\n",
    "address_country string, grade string, sub_grade string, verification_status string, total_high_credit_limit\n",
    "float, application_type string, join_annual_income float, verification_status_joint string) stored\n",
    "as parquet location '/home/tushar/Documents/project/cleaned_customer/parquet' \"\"\")"
   ]
  },
  {
   "cell_type": "code",
   "execution_count": 8,
   "id": "60e2456d-b6f1-4dd9-a945-c177754deaec",
   "metadata": {},
   "outputs": [
    {
     "name": "stderr",
     "output_type": "stream",
     "text": [
      "[Stage 0:>                                                          (0 + 1) / 1]\r"
     ]
    },
    {
     "name": "stdout",
     "output_type": "stream",
     "text": [
      "+--------------------+--------------------+----------+--------------+-------------+-------------+---------------+---------------+-----+---------+-------------------+-----------------------+----------------+------------------+-------------------------+\n",
      "|           member_id|           emp_title|emp_length|home_ownership|annual_income|address_state|address_zipcode|address_country|grade|sub_grade|verification_status|total_high_credit_limit|application_type|join_annual_income|verification_status_joint|\n",
      "+--------------------+--------------------+----------+--------------+-------------+-------------+---------------+---------------+-----+---------+-------------------+-----------------------+----------------+------------------+-------------------------+\n",
      "|798d8d26c193a5226...|               Owner|         8|          RENT|      30000.0|           CA|           null|            USA|    B|       B3|    Source Verified|                41224.0|      Individual|              null|                     null|\n",
      "|630b006426f181b13...|      Sales Engineer|         4|      MORTGAGE|     100000.0|           FL|           null|            USA|    B|       B4|           Verified|               314496.0|      Individual|              null|                     null|\n",
      "|c67a2cd3ba404274d...|    Customer Service|         6|      MORTGAGE|      85000.0|           NY|           null|            USA|    A|       A4|    Source Verified|                72069.0|      Individual|              null|                     null|\n",
      "|3d2489f9b5dabeefc...|               Nurse|         2|          RENT|      70000.0|           CT|           null|            USA|    C|       C1|    Source Verified|                10416.0|      Individual|              null|                     null|\n",
      "|56614d13a2b38ac5f...|           paramedic|         6|      MORTGAGE|      54000.0|           GA|           null|            USA|    D|       D5|       Not Verified|               255165.0|      Individual|              null|                     null|\n",
      "|90efe1f0ce8864aea...|Senior Network Su...|        10|      MORTGAGE|      80000.0|           MI|           null|            USA|    B|       B5|           Verified|                31502.0|      Individual|              null|                     null|\n",
      "|a8cebc24b90000208...|      Office manager|        10|          RENT|      46000.0|           NY|           null|            USA|    B|       B4|           Verified|                54700.0|      Individual|              null|                     null|\n",
      "|a6cff6fde94624f09...|     Project Manager|         8|      MORTGAGE|      80000.0|           NC|           null|            USA|    B|       B3|           Verified|               145699.0|      Individual|              null|                     null|\n",
      "|421d7ae81613108d8...|         Staff Nurse|         6|      MORTGAGE|     130000.0|           IL|           null|            USA|    E|       E3|    Source Verified|               324268.0|      Individual|              null|                     null|\n",
      "|501b480236ef22905...|Contract Manageme...|        10|      MORTGAGE|      66000.0|           NY|           null|            USA|    B|       B2|       Not Verified|               241838.0|      Individual|              null|                     null|\n",
      "|214bc14c46f794c4f...|           Paramedic|        10|      MORTGAGE|      49500.0|           IL|           null|            USA|    C|       C3|           Verified|               105646.0|      Individual|              null|                     null|\n",
      "|2de9edb553de35c95...|                  Rn|         8|          RENT|      90000.0|           NY|           null|            USA|    B|       B2|    Source Verified|               171922.0|      Individual|              null|                     null|\n",
      "|36bcae74fd4130e4b...|               Owner|        10|      MORTGAGE|      80000.0|           AR|           null|            USA|    A|       A3|       Not Verified|                84846.0|      Individual|              null|                     null|\n",
      "|050ad9e6911a77678...|    Program Director|         9|          RENT|      50000.0|           AL|           null|            USA|    D|       D5|           Verified|               138214.0|      Individual|              null|                     null|\n",
      "|b911ed883ee5cdd00...|Senior Project En...|         8|      MORTGAGE|      69000.0|           NY|           null|            USA|    B|       B2|       Not Verified|               234450.0|      Individual|              null|                     null|\n",
      "|5f306cc0f03fd8f59...|            Attorney|         4|          RENT|      90500.0|           TX|           null|            USA|    A|       A1|       Not Verified|               196428.0|      Individual|              null|                     null|\n",
      "|e9c30db8a9209ce3c...|Systems Admin / P...|         4|          RENT|      52500.0|           PA|           null|            USA|    A|       A2|       Not Verified|               144901.0|      Individual|              null|                     null|\n",
      "|ac7dcb92f81dbd7dd...|               Owner|         3|      MORTGAGE|     100000.0|           NY|           null|            USA|    C|       C5|    Source Verified|               300041.0|      Individual|              null|                     null|\n",
      "|cd1c4b71e75f7c870...|   Assistant Manager|         5|          RENT|      36000.0|           VA|           null|            USA|    E|       E3|    Source Verified|                34841.0|      Individual|              null|                     null|\n",
      "|3b214bcf5cca36c83...|     Legal Assistant|        10|           OWN|      55000.0|           CT|           null|            USA|    B|       B4|       Not Verified|               218689.0|      Individual|              null|                     null|\n",
      "+--------------------+--------------------+----------+--------------+-------------+-------------+---------------+---------------+-----+---------+-------------------+-----------------------+----------------+------------------+-------------------------+\n",
      "only showing top 20 rows\n",
      "\n"
     ]
    },
    {
     "name": "stderr",
     "output_type": "stream",
     "text": [
      "                                                                                \r"
     ]
    }
   ],
   "source": [
    "spark.sql(\"select * from project_trendy.customers\").show()"
   ]
  },
  {
   "cell_type": "code",
   "execution_count": 4,
   "id": "ff13d45c-5d52-4912-af67-549049f9bed8",
   "metadata": {},
   "outputs": [
    {
     "name": "stdout",
     "output_type": "stream",
     "text": [
      "+--------------------+---------+-------+\n",
      "|            col_name|data_type|comment|\n",
      "+--------------------+---------+-------+\n",
      "|           member_id|   string|   null|\n",
      "|           emp_title|   string|   null|\n",
      "|          emp_length|      int|   null|\n",
      "|      home_ownership|   string|   null|\n",
      "|       annual_income|    float|   null|\n",
      "|       address_state|   string|   null|\n",
      "|     address_zipcode|   string|   null|\n",
      "|     address_country|   string|   null|\n",
      "|               grade|   string|   null|\n",
      "|           sub_grade|   string|   null|\n",
      "| verification_status|   string|   null|\n",
      "|total_high_credit...|    float|   null|\n",
      "|    application_type|   string|   null|\n",
      "|  join_annual_income|    float|   null|\n",
      "|verification_stat...|   string|   null|\n",
      "+--------------------+---------+-------+\n",
      "\n"
     ]
    }
   ],
   "source": [
    "spark.sql(\"describe project_trendy.customers\").show()"
   ]
  },
  {
   "cell_type": "code",
   "execution_count": 31,
   "id": "615b2435-c273-4b2a-864d-d015cfa9297f",
   "metadata": {},
   "outputs": [
    {
     "name": "stdout",
     "output_type": "stream",
     "text": [
      "root\n",
      " |-- member_id: string (nullable = true)\n",
      " |-- emp_title: string (nullable = true)\n",
      " |-- emp_length: string (nullable = true)\n",
      " |-- home_ownership: string (nullable = true)\n",
      " |-- annual_inc: float (nullable = true)\n",
      " |-- addr_state: string (nullable = true)\n",
      " |-- zip_code: string (nullable = true)\n",
      " |-- country: string (nullable = true)\n",
      " |-- grade: string (nullable = true)\n",
      " |-- sub_grade: string (nullable = true)\n",
      " |-- verification_status: string (nullable = true)\n",
      " |-- tot_hi_cred_lim: float (nullable = true)\n",
      " |-- application_type: string (nullable = true)\n",
      " |-- annual_inc_joint: float (nullable = true)\n",
      " |-- verification_status_joint: string (nullable = true)\n",
      "\n"
     ]
    }
   ],
   "source": [
    "dfc.printSchema()"
   ]
  },
  {
   "cell_type": "code",
   "execution_count": 9,
   "id": "0731d5be-44f4-495c-beaa-95078465bdad",
   "metadata": {},
   "outputs": [
    {
     "data": {
      "text/plain": [
       "DataFrame[]"
      ]
     },
     "execution_count": 9,
     "metadata": {},
     "output_type": "execute_result"
    }
   ],
   "source": [
    "spark.sql(\"drop table project_trendy.loans\")"
   ]
  },
  {
   "cell_type": "code",
   "execution_count": 10,
   "id": "795657a8-27fb-4c65-a7da-815a863551a3",
   "metadata": {},
   "outputs": [
    {
     "data": {
      "text/plain": [
       "DataFrame[]"
      ]
     },
     "execution_count": 10,
     "metadata": {},
     "output_type": "execute_result"
    }
   ],
   "source": [
    "spark.sql(\"\"\"\n",
    "CREATE EXTERNAL TABLE project_trendy.loans(loan_id\n",
    "string,member_id string,loan_amount float,funded_amount\n",
    "float,loan_term_years integer,interest_rate float,monthly_installment\n",
    "float,issue_date string,loan_status string,loan_purpose string,loan_title\n",
    "string,ingest_date timestamp) stored as parquet\n",
    "LOCATION '/home/tushar/Documents/project/cleaned_loans/parquet'\n",
    "\"\"\")"
   ]
  },
  {
   "cell_type": "code",
   "execution_count": 11,
   "id": "7e281314-57f5-46cc-9fce-93f524ba29e2",
   "metadata": {},
   "outputs": [
    {
     "name": "stdout",
     "output_type": "stream",
     "text": [
      "+-------------------+---------+-------+\n",
      "|           col_name|data_type|comment|\n",
      "+-------------------+---------+-------+\n",
      "|            loan_id|   string|   null|\n",
      "|          member_id|   string|   null|\n",
      "|        loan_amount|    float|   null|\n",
      "|      funded_amount|    float|   null|\n",
      "|    loan_term_years|      int|   null|\n",
      "|      interest_rate|    float|   null|\n",
      "|monthly_installment|    float|   null|\n",
      "|         issue_date|   string|   null|\n",
      "|        loan_status|   string|   null|\n",
      "|       loan_purpose|   string|   null|\n",
      "|         loan_title|   string|   null|\n",
      "|        ingest_date|timestamp|   null|\n",
      "+-------------------+---------+-------+\n",
      "\n"
     ]
    }
   ],
   "source": [
    "spark.sql(\"describe project_trendy.loans\").show()"
   ]
  },
  {
   "cell_type": "code",
   "execution_count": 12,
   "id": "655195de-51f2-4779-b2e6-db5f36489807",
   "metadata": {},
   "outputs": [
    {
     "name": "stderr",
     "output_type": "stream",
     "text": [
      "[Stage 1:>                                                          (0 + 1) / 1]\r"
     ]
    },
    {
     "name": "stdout",
     "output_type": "stream",
     "text": [
      "+--------+--------------------+-----------+-------------+---------------+-------------+-------------------+----------+-----------+------------------+--------------------+-----------+\n",
      "| loan_id|           member_id|loan_amount|funded_amount|loan_term_years|interest_rate|monthly_installment|issue_date|loan_status|      loan_purpose|          loan_title|ingest_date|\n",
      "+--------+--------------------+-----------+-------------+---------------+-------------+-------------------+----------+-----------+------------------+--------------------+-----------+\n",
      "|57267443|48e96acef66a1b3aa...|    15000.0|      15000.0|              3|        19.99|               null|  Aug-2015| Fully Paid|debt_consolidation|  Debt consolidation|       null|\n",
      "|57186326|a26f0e7701a6ab87d...|     6000.0|       6000.0|              3|         6.89|               null|  Aug-2015| Fully Paid|debt_consolidation|  Debt consolidation|       null|\n",
      "|57044889|eeb80dce9907d9aa4...|     9625.0|       9625.0|              3|         8.18|               null|  Aug-2015|Charged Off|       credit_card|Credit card refin...|       null|\n",
      "+--------+--------------------+-----------+-------------+---------------+-------------+-------------------+----------+-----------+------------------+--------------------+-----------+\n",
      "\n"
     ]
    },
    {
     "name": "stderr",
     "output_type": "stream",
     "text": [
      "                                                                                \r"
     ]
    }
   ],
   "source": [
    "spark.sql(\"select * from project_trendy.loans limit 3\").show()"
   ]
  },
  {
   "cell_type": "code",
   "execution_count": 22,
   "id": "89b49170-d915-4d07-85d8-e1782dcd1ea8",
   "metadata": {},
   "outputs": [],
   "source": [
    "df = spark.read.load(\"/home/tushar/Documents/project/cleaned_loan_repayment/parquet\")"
   ]
  },
  {
   "cell_type": "code",
   "execution_count": 23,
   "id": "bb20a514-91c1-468c-a3f5-d35e184f61a4",
   "metadata": {},
   "outputs": [
    {
     "name": "stdout",
     "output_type": "stream",
     "text": [
      "+---------+------------------------+-----------------------+-----------------------+----------------------+-------------------+-----------------+-----------------+--------------------+\n",
      "|  loan_id|total_principal_received|total_interest_received|total_late_fee_received|total_payment_received|last_payment_amount|last_payment_date|next_payment_date|         ingest_date|\n",
      "+---------+------------------------+-----------------------+-----------------------+----------------------+-------------------+-----------------+-----------------+--------------------+\n",
      "|113822370|                 6778.08|                2543.93|                    0.0|               9322.01|              333.6|         Mar-2019|         Apr-2019|2024-03-21 11:55:...|\n",
      "|113819258|                  3600.0|                 474.95|                    0.0|             4074.9456|            1625.64|         Mar-2019|             null|2024-03-21 11:55:...|\n",
      "|112199304|                 12800.0|                1456.84|                    0.0|             14256.845|           11776.95|         Apr-2018|             null|2024-03-21 11:55:...|\n",
      "|113659102|                 20000.0|                2090.53|                    0.0|             22090.525|           13661.21|         Sep-2018|             null|2024-03-21 11:55:...|\n",
      "|112861921|                 2679.37|                 329.27|                    0.0|               3008.64|             150.58|         Mar-2019|         Apr-2019|2024-03-21 11:55:...|\n",
      "|113820151|                 5871.59|                 4806.8|                  27.97|              10706.36|             587.41|         Mar-2019|         Apr-2019|2024-03-21 11:55:...|\n",
      "|113679306|                 4818.16|                2608.75|                    0.0|               7426.91|             371.64|         Mar-2019|         Apr-2019|2024-03-21 11:55:...|\n",
      "|113618333|                 20000.0|                2447.13|                    0.0|             22447.125|           13819.18|         Sep-2018|             null|2024-03-21 11:55:...|\n",
      "|113215739|                 4870.78|                1359.68|                    0.0|               6230.46|             326.97|         Feb-2019|         Apr-2019|2024-03-21 11:55:...|\n",
      "|113509237|                 22400.0|                3174.65|                    0.0|             25574.648|           13687.17|         Dec-2018|             null|2024-03-21 11:55:...|\n",
      "|113719537|                 12000.0|                 1176.1|                    0.0|             13176.101|           11195.57|         Mar-2018|             null|2024-03-21 11:55:...|\n",
      "|113545464|                 4327.54|                1160.37|                    0.0|               5487.91|             274.65|         Mar-2019|         Apr-2019|2024-03-21 11:55:...|\n",
      "|113277363|                  4800.0|                 410.08|                    0.0|             5210.0796|            3657.24|         Jun-2018|             null|2024-03-21 11:55:...|\n",
      "|113820740|                 4281.93|                 2867.4|                    0.0|               7149.33|             373.63|         Feb-2019|         Apr-2019|2024-03-21 11:55:...|\n",
      "|112970326|                 20000.0|                2726.35|                    0.0|             22726.348|           18011.85|         Jun-2018|             null|2024-03-21 11:55:...|\n",
      "|113671401|                  9000.0|                 913.11|                    0.0|              9913.106|            6146.64|         Oct-2018|             null|2024-03-21 11:55:...|\n",
      "|113779421|                12907.76|                5227.92|                    0.0|              18135.68|             899.58|         Mar-2019|         Apr-2019|2024-03-21 11:55:...|\n",
      "|113820225|                  4522.8|                2171.82|                    0.0|               6694.62|             335.57|         Mar-2019|         Apr-2019|2024-03-21 11:55:...|\n",
      "|113819131|                 7777.58|                6161.49|                    0.0|              13939.07|              699.3|         Mar-2019|         Apr-2019|2024-03-21 11:55:...|\n",
      "|113534786|                  5000.0|                 267.35|                    0.0|             5267.3516|            4016.82|         Apr-2018|             null|2024-03-21 11:55:...|\n",
      "+---------+------------------------+-----------------------+-----------------------+----------------------+-------------------+-----------------+-----------------+--------------------+\n",
      "only showing top 20 rows\n",
      "\n"
     ]
    }
   ],
   "source": [
    "df.show()"
   ]
  },
  {
   "cell_type": "code",
   "execution_count": 24,
   "id": "f9cf2a7f-0711-4ccb-ae5a-7b70b02c71da",
   "metadata": {},
   "outputs": [
    {
     "data": {
      "text/plain": [
       "DataFrame[]"
      ]
     },
     "execution_count": 24,
     "metadata": {},
     "output_type": "execute_result"
    }
   ],
   "source": [
    "spark.sql(\"drop table project_trendy.loans_repayments\")"
   ]
  },
  {
   "cell_type": "code",
   "execution_count": 25,
   "id": "c5ad99ce-878d-4627-8a1e-063f6bca72a4",
   "metadata": {},
   "outputs": [
    {
     "data": {
      "text/plain": [
       "DataFrame[]"
      ]
     },
     "execution_count": 25,
     "metadata": {},
     "output_type": "execute_result"
    }
   ],
   "source": [
    "spark.sql(\"\"\"\n",
    "CREATE EXTERNAL TABLE\n",
    "project_trendy.loans_repayments(loan_id\n",
    "string,total_principal_received float,total_interest_received\n",
    "float,total_late_fee_received float,total_payment_received\n",
    "float,last_payment_amount float,last_payment_date string,next_payment_date\n",
    "string,ingest_date timestamp) stored as parquet\n",
    "LOCATION '/home/tushar/Documents/project/cleaned_loan_repayment/parquet'\n",
    "\"\"\")"
   ]
  },
  {
   "cell_type": "code",
   "execution_count": 26,
   "id": "94a8b5d1-e66e-4c1c-a67f-946bf362677b",
   "metadata": {},
   "outputs": [
    {
     "name": "stdout",
     "output_type": "stream",
     "text": [
      "+---------+------------------------+-----------------------+-----------------------+----------------------+-------------------+-----------------+-----------------+--------------------+\n",
      "|  loan_id|total_principal_received|total_interest_received|total_late_fee_received|total_payment_received|last_payment_amount|last_payment_date|next_payment_date|         ingest_date|\n",
      "+---------+------------------------+-----------------------+-----------------------+----------------------+-------------------+-----------------+-----------------+--------------------+\n",
      "|113822370|                 6778.08|                2543.93|                    0.0|               9322.01|              333.6|         Mar-2019|         Apr-2019|2024-03-21 11:55:...|\n",
      "|113819258|                  3600.0|                 474.95|                    0.0|             4074.9456|            1625.64|         Mar-2019|             null|2024-03-21 11:55:...|\n",
      "|112199304|                 12800.0|                1456.84|                    0.0|             14256.845|           11776.95|         Apr-2018|             null|2024-03-21 11:55:...|\n",
      "|113659102|                 20000.0|                2090.53|                    0.0|             22090.525|           13661.21|         Sep-2018|             null|2024-03-21 11:55:...|\n",
      "|112861921|                 2679.37|                 329.27|                    0.0|               3008.64|             150.58|         Mar-2019|         Apr-2019|2024-03-21 11:55:...|\n",
      "|113820151|                 5871.59|                 4806.8|                  27.97|              10706.36|             587.41|         Mar-2019|         Apr-2019|2024-03-21 11:55:...|\n",
      "|113679306|                 4818.16|                2608.75|                    0.0|               7426.91|             371.64|         Mar-2019|         Apr-2019|2024-03-21 11:55:...|\n",
      "|113618333|                 20000.0|                2447.13|                    0.0|             22447.125|           13819.18|         Sep-2018|             null|2024-03-21 11:55:...|\n",
      "|113215739|                 4870.78|                1359.68|                    0.0|               6230.46|             326.97|         Feb-2019|         Apr-2019|2024-03-21 11:55:...|\n",
      "|113509237|                 22400.0|                3174.65|                    0.0|             25574.648|           13687.17|         Dec-2018|             null|2024-03-21 11:55:...|\n",
      "|113719537|                 12000.0|                 1176.1|                    0.0|             13176.101|           11195.57|         Mar-2018|             null|2024-03-21 11:55:...|\n",
      "|113545464|                 4327.54|                1160.37|                    0.0|               5487.91|             274.65|         Mar-2019|         Apr-2019|2024-03-21 11:55:...|\n",
      "|113277363|                  4800.0|                 410.08|                    0.0|             5210.0796|            3657.24|         Jun-2018|             null|2024-03-21 11:55:...|\n",
      "|113820740|                 4281.93|                 2867.4|                    0.0|               7149.33|             373.63|         Feb-2019|         Apr-2019|2024-03-21 11:55:...|\n",
      "|112970326|                 20000.0|                2726.35|                    0.0|             22726.348|           18011.85|         Jun-2018|             null|2024-03-21 11:55:...|\n",
      "|113671401|                  9000.0|                 913.11|                    0.0|              9913.106|            6146.64|         Oct-2018|             null|2024-03-21 11:55:...|\n",
      "|113779421|                12907.76|                5227.92|                    0.0|              18135.68|             899.58|         Mar-2019|         Apr-2019|2024-03-21 11:55:...|\n",
      "|113820225|                  4522.8|                2171.82|                    0.0|               6694.62|             335.57|         Mar-2019|         Apr-2019|2024-03-21 11:55:...|\n",
      "|113819131|                 7777.58|                6161.49|                    0.0|              13939.07|              699.3|         Mar-2019|         Apr-2019|2024-03-21 11:55:...|\n",
      "|113534786|                  5000.0|                 267.35|                    0.0|             5267.3516|            4016.82|         Apr-2018|             null|2024-03-21 11:55:...|\n",
      "+---------+------------------------+-----------------------+-----------------------+----------------------+-------------------+-----------------+-----------------+--------------------+\n",
      "only showing top 20 rows\n",
      "\n"
     ]
    }
   ],
   "source": [
    "spark.sql(\"select * from project_trendy.loans_repayments where loan_id is not null\").show()"
   ]
  },
  {
   "cell_type": "code",
   "execution_count": 3,
   "id": "fe932b01-f4d7-484f-82d8-1a112baf5ca9",
   "metadata": {},
   "outputs": [
    {
     "data": {
      "text/plain": [
       "DataFrame[]"
      ]
     },
     "execution_count": 3,
     "metadata": {},
     "output_type": "execute_result"
    }
   ],
   "source": [
    "spark.sql(\"drop table project_trendy.loans_defaulters_delinq\")"
   ]
  },
  {
   "cell_type": "code",
   "execution_count": 4,
   "id": "0584cd54-adab-43ae-99da-476b1d0026b6",
   "metadata": {},
   "outputs": [
    {
     "data": {
      "text/plain": [
       "DataFrame[]"
      ]
     },
     "execution_count": 4,
     "metadata": {},
     "output_type": "execute_result"
    }
   ],
   "source": [
    "spark.sql(\"drop table project_trendy.loans_defaulters_detail_rec_enq\")"
   ]
  },
  {
   "cell_type": "code",
   "execution_count": 5,
   "id": "f6e27a74-8c03-4287-9ec8-7f22d68308de",
   "metadata": {},
   "outputs": [
    {
     "data": {
      "text/plain": [
       "DataFrame[]"
      ]
     },
     "execution_count": 5,
     "metadata": {},
     "output_type": "execute_result"
    }
   ],
   "source": [
    "spark.sql(\"\"\"\n",
    "CREATE EXTERNAL TABLE\n",
    "project_trendy.loans_defaulters_delinq(member_id\n",
    "string,delinq_2yrs integer,delinq_amnt float,mths_since_last_delinq integer)\n",
    "stored as parquet\n",
    "LOCATION\n",
    "'/home/tushar/Documents/project/cleaned_defaulters/parquet'\n",
    "\"\"\")"
   ]
  },
  {
   "cell_type": "code",
   "execution_count": 28,
   "id": "f35040ba-3057-4da6-b794-4414031081bf",
   "metadata": {},
   "outputs": [
    {
     "name": "stdout",
     "output_type": "stream",
     "text": [
      "+--------------------+-----------+-----------+----------------------+\n",
      "|           member_id|delinq_2yrs|delinq_amnt|mths_since_last_delinq|\n",
      "+--------------------+-----------+-----------+----------------------+\n",
      "|d1d57da467ff9bf70...|          1|      687.0|                     1|\n",
      "|151123ed6ae3330c9...|          1|       40.0|                     1|\n",
      "|45b69a14c1f7ddc85...|          1|       36.0|                     4|\n",
      "|9fd87aab9dd839ff9...|          1|        6.0|                     0|\n",
      "|08b62ccaa2855513f...|          1|       62.0|                     0|\n",
      "|6c488fc67278827f4...|          1|       33.0|                     1|\n",
      "|8f660835d5395071f...|          2|      162.0|                     1|\n",
      "|0a9fe1f2599f7ecfd...|          1|     1394.0|                  null|\n",
      "|d5b000363ca3ee546...|          3|     7849.0|                     1|\n",
      "|cb67352f9d51c54dc...|          2|      896.0|                     1|\n",
      "|9af8622adac15360e...|          1|       62.0|                     1|\n",
      "|e404aa85f2c3c9dc6...|          1|      376.0|                  null|\n",
      "|a00edb4a61ae134aa...|          1|       14.0|                     0|\n",
      "|a506f9ea1b2dbc793...|          1|     1492.0|                  null|\n",
      "|a63d9cd7f90269824...|          1|        1.0|                     3|\n",
      "|81113e38d7644951f...|          2|      303.0|                     0|\n",
      "|ea64f4352116fda4a...|          1|     1961.0|                     0|\n",
      "|06b500ce46f5b0a04...|          1|      602.0|                     1|\n",
      "|a07185beb64c6febe...|          1|     2730.0|                     1|\n",
      "|676c694b30d013afa...|          1|    38665.0|                     0|\n",
      "+--------------------+-----------+-----------+----------------------+\n",
      "only showing top 20 rows\n",
      "\n"
     ]
    }
   ],
   "source": [
    "spark.sql(\"select * from project_trendy.loans_defaulters_delinq where delinq_amnt != 0.0\").show()"
   ]
  },
  {
   "cell_type": "code",
   "execution_count": 30,
   "id": "bddd11d4-d22e-4066-b019-371153d9d190",
   "metadata": {},
   "outputs": [],
   "source": [
    "df1 = spark.read.load(\"/home/tushar/Documents/project/cleaned_def_enq_detail/parquet\")"
   ]
  },
  {
   "cell_type": "code",
   "execution_count": 31,
   "id": "d710d9c8-5ad3-4b24-a1f8-c74b4c1610ba",
   "metadata": {},
   "outputs": [
    {
     "name": "stdout",
     "output_type": "stream",
     "text": [
      "+--------------------+-------+--------------------+--------------+\n",
      "|           member_id|pub_rec|pub_rec_bankruptcies|inq_last_6mths|\n",
      "+--------------------+-------+--------------------+--------------+\n",
      "|6d5091b3fcaaeb4ea...|      0|                   0|             1|\n",
      "|b5e7938b0a2da4cea...|      0|                   0|             4|\n",
      "|91060b858433e8a61...|      0|                   0|             0|\n",
      "|cab1fa9f533688b0a...|      0|                   0|             0|\n",
      "|f74e401c1ab0adf78...|      0|                   0|             3|\n",
      "|8aef4bb29d609d8d6...|      0|                   0|             0|\n",
      "|538b4653da3b1e814...|      0|                   0|             0|\n",
      "|b24d55f21390533c5...|      0|                   0|             0|\n",
      "|1035c5401b0ca76d0...|      1|                   1|             1|\n",
      "|cb0f1777593e77909...|      0|                   0|             0|\n",
      "|a962f4d59caec5fa1...|      0|                   0|             0|\n",
      "|e7592ab57b3afd9f1...|      0|                   0|             0|\n",
      "|603afa9d1be879b7b...|      0|                   0|             0|\n",
      "|9fe2d59ddf2a4f37e...|      1|                   1|             1|\n",
      "|23857480ccf555ce4...|      0|                   0|             0|\n",
      "|7c69d5f36fdabf6e1...|      0|                   0|             0|\n",
      "|08bf9e080503b0113...|      0|                   0|             1|\n",
      "|1cafb05aa6c894c30...|      0|                   0|             0|\n",
      "|f2c4010f700d8c9c4...|      0|                   0|             0|\n",
      "|05ad4aed7c393035e...|      1|                   1|             4|\n",
      "+--------------------+-------+--------------------+--------------+\n",
      "only showing top 20 rows\n",
      "\n"
     ]
    }
   ],
   "source": [
    "df1.show()"
   ]
  },
  {
   "cell_type": "code",
   "execution_count": 32,
   "id": "7fc39c61-a299-4503-abdd-e1c2f81dff03",
   "metadata": {},
   "outputs": [
    {
     "data": {
      "text/plain": [
       "DataFrame[]"
      ]
     },
     "execution_count": 32,
     "metadata": {},
     "output_type": "execute_result"
    }
   ],
   "source": [
    "spark.sql(\"drop table project_trendy.loans_defaulters_detail_rec_enq\")"
   ]
  },
  {
   "cell_type": "code",
   "execution_count": 33,
   "id": "a732e41e-8892-4d47-8a7b-1b9f681b490d",
   "metadata": {},
   "outputs": [
    {
     "data": {
      "text/plain": [
       "DataFrame[]"
      ]
     },
     "execution_count": 33,
     "metadata": {},
     "output_type": "execute_result"
    }
   ],
   "source": [
    "spark.sql(\"\"\"\n",
    "CREATE EXTERNAL TABLE\n",
    "project_trendy.loans_defaulters_detail_rec_enq(member_id string,\n",
    "pub_rec integer, pub_rec_bankruptcies integer, inq_last_6mths integer) stored\n",
    "as parquet\n",
    "LOCATION\n",
    "'/home/tushar/Documents/project/cleaned_def_enq_detail/parquet'\n",
    "\"\"\")"
   ]
  },
  {
   "cell_type": "code",
   "execution_count": 34,
   "id": "071ecd36-9cc0-4a95-a4d8-8bc2969655f4",
   "metadata": {},
   "outputs": [
    {
     "name": "stdout",
     "output_type": "stream",
     "text": [
      "+--------------------+-------+--------------------+--------------+\n",
      "|           member_id|pub_rec|pub_rec_bankruptcies|inq_last_6mths|\n",
      "+--------------------+-------+--------------------+--------------+\n",
      "|6d5091b3fcaaeb4ea...|      0|                   0|             1|\n",
      "+--------------------+-------+--------------------+--------------+\n",
      "\n"
     ]
    }
   ],
   "source": [
    "spark.sql(\"select * from project_trendy.loans_defaulters_detail_rec_enq limit 1\").show()"
   ]
  },
  {
   "cell_type": "code",
   "execution_count": 7,
   "id": "45dcec74-6040-4eb7-ab92-e2557a2314b9",
   "metadata": {},
   "outputs": [
    {
     "data": {
      "text/plain": [
       "DataFrame[]"
      ]
     },
     "execution_count": 7,
     "metadata": {},
     "output_type": "execute_result"
    }
   ],
   "source": [
    "spark.sql(\"refresh project_trendy.loans_defaulters_delinq\")"
   ]
  },
  {
   "cell_type": "code",
   "execution_count": 8,
   "id": "9294cc9c-73ef-4458-a35b-ce73aada08a7",
   "metadata": {},
   "outputs": [
    {
     "data": {
      "text/plain": [
       "DataFrame[]"
      ]
     },
     "execution_count": 8,
     "metadata": {},
     "output_type": "execute_result"
    }
   ],
   "source": [
    "spark.sql(\"refresh project_trendy.loans_defaulters_detail_rec_enq\")"
   ]
  },
  {
   "cell_type": "code",
   "execution_count": 36,
   "id": "a0e95d06-15e0-4d7f-bacb-12bdc256fc5b",
   "metadata": {},
   "outputs": [
    {
     "name": "stdout",
     "output_type": "stream",
     "text": [
      "++\n",
      "||\n",
      "++\n",
      "++\n",
      "\n"
     ]
    }
   ],
   "source": [
    "spark.sql(\"use project_trendy\").show()"
   ]
  },
  {
   "cell_type": "code",
   "execution_count": 47,
   "id": "d43e82e3-2a40-4c3e-9d3a-cf0cbd38db23",
   "metadata": {},
   "outputs": [
    {
     "name": "stdout",
     "output_type": "stream",
     "text": [
      "+--------------+--------------------+-----------+\n",
      "|     namespace|           tableName|isTemporary|\n",
      "+--------------+--------------------+-----------+\n",
      "|project_trendy|           customers|      false|\n",
      "|project_trendy|    customers_loan_v|      false|\n",
      "|project_trendy|               loans|      false|\n",
      "|project_trendy|loans_defaulters_...|      false|\n",
      "|project_trendy|loans_defaulters_...|      false|\n",
      "|project_trendy|    loans_repayments|      false|\n",
      "+--------------+--------------------+-----------+\n",
      "\n"
     ]
    },
    {
     "name": "stderr",
     "output_type": "stream",
     "text": [
      "                                                                                \r"
     ]
    }
   ],
   "source": [
    "spark.sql(\"show tables\").show()"
   ]
  },
  {
   "cell_type": "markdown",
   "id": "249c41f7-7dc6-4b15-abbc-e89e1bb8c0c3",
   "metadata": {},
   "source": [
    "<p> Creating view with the help of which you can get the updated data</p>"
   ]
  },
  {
   "cell_type": "code",
   "execution_count": 14,
   "id": "06ef01c8-856a-497a-82dd-45eb451d3ac2",
   "metadata": {},
   "outputs": [
    {
     "data": {
      "text/plain": [
       "DataFrame[]"
      ]
     },
     "execution_count": 14,
     "metadata": {},
     "output_type": "execute_result"
    }
   ],
   "source": [
    "spark.sql(\"\"\"\n",
    "    create or replace view project_trendy.customers_loan_v as select\n",
    "    l.loan_id,\n",
    "    c.member_id,\n",
    "    c.emp_title,\n",
    "    c.emp_length,\n",
    "    c.home_ownership,\n",
    "    c.annual_income,\n",
    "    c.address_state,\n",
    "    c.address_zipcode,\n",
    "    c.address_country,\n",
    "    c.grade,\n",
    "    c.sub_grade,\n",
    "    c.verification_status,\n",
    "    c.total_high_credit_limit,\n",
    "    c.application_type,\n",
    "    c.join_annual_income,\n",
    "    c.verification_status_joint,\n",
    "    l.loan_amount,\n",
    "    l.funded_amount,\n",
    "    l.loan_term_years,\n",
    "    l.interest_rate,\n",
    "    l.monthly_installment,\n",
    "    l.issue_date,\n",
    "    l.loan_status,\n",
    "    l.loan_purpose,\n",
    "    r.total_principal_received,\n",
    "    r.total_interest_received,\n",
    "    r.total_late_fee_received,\n",
    "    r.last_payment_date,\n",
    "    r.next_payment_date,\n",
    "    d.delinq_2yrs,\n",
    "    d.delinq_amnt,\n",
    "    d.mths_since_last_delinq,\n",
    "    e.pub_rec,\n",
    "    e.pub_rec_bankruptcies,\n",
    "    e.inq_last_6mths\n",
    "    FROM project_trendy.customers  c\n",
    "    LEFT JOIN project_trendy.loans l on c.member_id = l.member_id\n",
    "    LEFT JOIN project_trendy.loans_repayments r ON l.loan_id = r.loan_id\n",
    "    LEFT JOIN project_trendy.loans_defaulters_delinq d ON c.member_id = d.member_id\n",
    "    LEFT JOIN project_trendy.loans_defaulters_detail_rec_enq e ON c.member_id = e.member_id\\\n",
    "    \"\"\")"
   ]
  },
  {
   "cell_type": "markdown",
   "id": "991f709e-37bb-4f3e-bb07-7ad953cc65ef",
   "metadata": {},
   "source": [
    "<p> Creating table for the fast access of data but this data will not be updated one </p>"
   ]
  },
  {
   "cell_type": "code",
   "execution_count": 13,
   "id": "3b90f831-47f3-4938-828d-a3ee6278e360",
   "metadata": {},
   "outputs": [
    {
     "name": "stderr",
     "output_type": "stream",
     "text": [
      "24/03/20 11:13:48 WARN ResolveSessionCatalog: A Hive serde table will be created as there is no table provider specified. You can set spark.sql.legacy.createHiveTableByDefault to false so that native data source table will be created instead.\n",
      "                                                                                \r"
     ]
    },
    {
     "data": {
      "text/plain": [
       "DataFrame[]"
      ]
     },
     "execution_count": 13,
     "metadata": {},
     "output_type": "execute_result"
    }
   ],
   "source": [
    "spark.sql(\"\"\"\n",
    "    create table project_trendy.customers_loan as select\n",
    "    l.loan_id,\n",
    "    c.member_id,\n",
    "    c.emp_title,\n",
    "    c.emp_length,\n",
    "    c.home_ownership,\n",
    "    c.annual_income,\n",
    "    c.address_state,\n",
    "    c.address_zipcode,\n",
    "    c.address_country,\n",
    "    c.grade,\n",
    "    c.sub_grade,\n",
    "    c.verification_status,\n",
    "    c.total_high_credit_limit,\n",
    "    c.application_type,\n",
    "    c.join_annual_income,\n",
    "    c.verification_status_joint,\n",
    "    l.loan_amount,\n",
    "    l.funded_amount,\n",
    "    l.loan_term_years,\n",
    "    l.interest_rate,\n",
    "    l.monthly_installment,\n",
    "    l.issue_date,\n",
    "    l.loan_status,\n",
    "    l.loan_purpose,\n",
    "    r.total_principal_received,\n",
    "    r.total_interest_received,\n",
    "    r.total_late_fee_received,\n",
    "    r.last_payment_date,\n",
    "    r.next_payment_date,\n",
    "    d.delinq_2yrs,\n",
    "    d.delinq_amnt,\n",
    "    d.mths_since_last_delinq,\n",
    "    e.pub_rec,\n",
    "    e.pub_rec_bankruptcies,\n",
    "    e.inq_last_6mths\n",
    "    FROM project_trendy.customers  c\n",
    "    LEFT JOIN project_trendy.loans l on c.member_id = l.member_id\n",
    "    LEFT JOIN project_trendy.loans_repayments r ON l.loan_id = r.loan_id\n",
    "    LEFT JOIN project_trendy.loans_defaulters_delinq d ON c.member_id = d.member_id\n",
    "    LEFT JOIN project_trendy.loans_defaulters_detail_rec_enq e ON c.member_id = e.member_id\\\n",
    "    \"\"\")"
   ]
  },
  {
   "cell_type": "code",
   "execution_count": 35,
   "id": "bf289856-3bf5-4180-a134-a3454488c8b7",
   "metadata": {},
   "outputs": [],
   "source": [
    "spark.stop()"
   ]
  },
  {
   "cell_type": "code",
   "execution_count": null,
   "id": "6bb17518-0b90-4e4d-978e-d1eb3ce336fc",
   "metadata": {},
   "outputs": [],
   "source": []
  }
 ],
 "metadata": {
  "kernelspec": {
   "display_name": "spark",
   "language": "python",
   "name": "spark"
  },
  "language_info": {
   "codemirror_mode": {
    "name": "ipython",
    "version": 3
   },
   "file_extension": ".py",
   "mimetype": "text/x-python",
   "name": "python",
   "nbconvert_exporter": "python",
   "pygments_lexer": "ipython3",
   "version": "3.10.12"
  }
 },
 "nbformat": 4,
 "nbformat_minor": 5
}
