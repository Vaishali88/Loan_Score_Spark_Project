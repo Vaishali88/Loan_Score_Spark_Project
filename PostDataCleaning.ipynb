{
 "cells": [
  {
   "cell_type": "code",
   "execution_count": 1,
   "id": "1c7d8a43-4915-4776-9e2c-9218b38362b3",
   "metadata": {},
   "outputs": [],
   "source": [
    "from pyspark.sql import SparkSession\n",
    "from pyspark.sql.functions import *"
   ]
  },
  {
   "cell_type": "code",
   "execution_count": 2,
   "id": "ba778a07-d5db-4068-9004-cee8a8d3c963",
   "metadata": {},
   "outputs": [
    {
     "name": "stderr",
     "output_type": "stream",
     "text": [
      "Warning: Ignoring non-Spark config property: spark\n",
      "Setting default log level to \"WARN\".\n",
      "To adjust logging level use sc.setLogLevel(newLevel). For SparkR, use setLogLevel(newLevel).\n"
     ]
    }
   ],
   "source": [
    "spark = SparkSession.builder.appName(\"loans\") \\\n",
    ".master(\"spark://10.208.36.84:7077\") \\\n",
    ".config(\"spark.hadoop.defaultFS\",\"hdfs://10.208.36.84:9000\") \\\n",
    ".config(\"spark.sql.warehouse.dir\",\"/home/hadoop/spark_workspace/shared_folder/tushar/Tables_data\")\\\n",
    ".config(\"spark.executor.cores\",2) \\\n",
    ".config(\"spark.executor.memory\",\"4g\") \\\n",
    ".config(\"spark.cores.max\",\"8\") \\\n",
    ".enableHiveSupport() \\\n",
    ".getOrCreate()"
   ]
  },
  {
   "cell_type": "code",
   "execution_count": 4,
   "id": "56e083d1-6e02-48f9-aa0b-a4533daff28c",
   "metadata": {},
   "outputs": [
    {
     "name": "stdout",
     "output_type": "stream",
     "text": [
      "+--------------+\n",
      "|     namespace|\n",
      "+--------------+\n",
      "|       default|\n",
      "|project_trendy|\n",
      "+--------------+\n",
      "\n"
     ]
    }
   ],
   "source": [
    "spark.sql(\"show databases\").show()"
   ]
  },
  {
   "cell_type": "code",
   "execution_count": 7,
   "id": "691c3392-f070-4dbb-8014-80bacbcca2da",
   "metadata": {},
   "outputs": [
    {
     "name": "stdout",
     "output_type": "stream",
     "text": [
      "+--------------------+-----+\n",
      "|           member_id|total|\n",
      "+--------------------+-----+\n",
      "|e3b0c44298fc1c149...|    8|\n",
      "|ca5fd93b4f9adf941...|    3|\n",
      "|27bdc71bcc167a89e...|    3|\n",
      "|ab24d776473f88620...|    3|\n",
      "|df80f1a8b448b328b...|    2|\n",
      "|4c644a03ab100b0ec...|    2|\n",
      "|f94662f4716a1f62f...|    2|\n",
      "|5d52e7773cb0efff3...|    2|\n",
      "|ff198a907ac2a230d...|    2|\n",
      "|65e7b35dec6f1a9ef...|    2|\n",
      "|ab962e5163fc17ff2...|    2|\n",
      "|2b14e817ac88a8df4...|    2|\n",
      "|4e95006686e33fbdf...|    2|\n",
      "|4f6d66d76996e7206...|    2|\n",
      "|af04c388ce4174287...|    2|\n",
      "|d8211286a676d20d6...|    2|\n",
      "|d26d6fa0710cff15d...|    2|\n",
      "|2fb9a177922c00368...|    2|\n",
      "|be2e2c04f930aef3e...|    2|\n",
      "|f31a1aa77df7d6a0b...|    2|\n",
      "+--------------------+-----+\n",
      "only showing top 20 rows\n",
      "\n"
     ]
    },
    {
     "name": "stderr",
     "output_type": "stream",
     "text": [
      "                                                                                \r"
     ]
    }
   ],
   "source": [
    "spark.sql(\"select member_id ,count(*) as total from project_trendy.customers group by member_id having count(*)>1 order by total desc\").show()"
   ]
  },
  {
   "cell_type": "code",
   "execution_count": 11,
   "id": "e469b0f6-0cb0-4752-872d-501a637a253c",
   "metadata": {},
   "outputs": [
    {
     "name": "stdout",
     "output_type": "stream",
     "text": [
      "+--------------------+---------+----------+--------------+-------------+-------------+---------------+---------------+-----+---------+-------------------+-----------------------+----------------+------------------+-------------------------+\n",
      "|           member_id|emp_title|emp_length|home_ownership|annual_income|address_state|address_zipcode|address_country|grade|sub_grade|verification_status|total_high_credit_limit|application_type|join_annual_income|verification_status_joint|\n",
      "+--------------------+---------+----------+--------------+-------------+-------------+---------------+---------------+-----+---------+-------------------+-----------------------+----------------+------------------+-------------------------+\n",
      "|e3b0c44298fc1c149...|     null|         6|          null|         null|         null|           null|            USA| null|     null|               null|                   null|            null|              null|                     null|\n",
      "|e3b0c44298fc1c149...|     null|         6|          null|         null|         null|           null|            USA| null|     null|               null|                   null|            null|              null|                     null|\n",
      "|e3b0c44298fc1c149...|     null|         6|          null|         null|         null|           null|            USA| null|     null|               null|                   null|            null|              null|                     null|\n",
      "|e3b0c44298fc1c149...|     null|         6|          null|         null|         null|           null|            USA| null|     null|               null|                   null|            null|              null|                     null|\n",
      "|e3b0c44298fc1c149...|     null|         6|          null|         null|         null|           null|            USA| null|     null|               null|                   null|            null|              null|                     null|\n",
      "|e3b0c44298fc1c149...|     null|         6|          null|         null|         null|           null|            USA| null|     null|               null|                   null|            null|              null|                     null|\n",
      "|e3b0c44298fc1c149...|     null|         6|          null|         null|         null|           null|            USA| null|     null|               null|                   null|            null|              null|                     null|\n",
      "|e3b0c44298fc1c149...|     null|         6|          null|         null|         null|           null|            USA| null|     null|               null|                   null|            null|              null|                     null|\n",
      "+--------------------+---------+----------+--------------+-------------+-------------+---------------+---------------+-----+---------+-------------------+-----------------------+----------------+------------------+-------------------------+\n",
      "\n"
     ]
    }
   ],
   "source": [
    "spark.sql(\"select * from project_trendy.customers where member_id like 'e3b0c44298fc1c149%' \").show()"
   ]
  },
  {
   "cell_type": "markdown",
   "id": "9a1db0ea-77f0-4f26-970b-5a42a5315de5",
   "metadata": {},
   "source": [
    "<p> All the values are null so we can drop them </p>"
   ]
  },
  {
   "cell_type": "code",
   "execution_count": 17,
   "id": "7487934e-188c-487f-93e9-4e57ed4b4d6c",
   "metadata": {},
   "outputs": [
    {
     "name": "stdout",
     "output_type": "stream",
     "text": [
      "+--------------+--------------------+-----------+\n",
      "|     namespace|           tableName|isTemporary|\n",
      "+--------------+--------------------+-----------+\n",
      "|project_trendy|           customers|      false|\n",
      "|project_trendy|      customers_loan|      false|\n",
      "|project_trendy|    customers_loan_v|      false|\n",
      "|project_trendy|               loans|      false|\n",
      "|project_trendy|loans_defaulters_...|      false|\n",
      "|project_trendy|loans_defaulters_...|      false|\n",
      "|project_trendy|    loans_repayments|      false|\n",
      "+--------------+--------------------+-----------+\n",
      "\n"
     ]
    }
   ],
   "source": [
    "spark.sql(\"use project_trendy\")\n",
    "spark.sql(\"show tables\").show(truncate=False)"
   ]
  },
  {
   "cell_type": "code",
   "execution_count": 20,
   "id": "1d84bd4b-028d-4d08-8ffa-3a28d7e752f8",
   "metadata": {},
   "outputs": [],
   "source": [
    "bad_data_customer_df = spark.sql(\"select member_id from (select member_id ,count(*) as total from project_trendy.customers group by member_id having count(*)>1 order by total desc)\")"
   ]
  },
  {
   "cell_type": "code",
   "execution_count": 21,
   "id": "5f4c3b2d-9ad1-4997-b99b-0a382ffe1186",
   "metadata": {},
   "outputs": [
    {
     "name": "stdout",
     "output_type": "stream",
     "text": [
      "root\n",
      " |-- member_id: string (nullable = true)\n",
      "\n"
     ]
    }
   ],
   "source": [
    "bad_data_customer_df.printSchema()"
   ]
  },
  {
   "cell_type": "code",
   "execution_count": 22,
   "id": "89ed962c-849e-4a7f-bca6-50ecf11853d8",
   "metadata": {},
   "outputs": [
    {
     "data": {
      "text/plain": [
       "476"
      ]
     },
     "execution_count": 22,
     "metadata": {},
     "output_type": "execute_result"
    }
   ],
   "source": [
    "bad_data_customer_df.count()"
   ]
  },
  {
   "cell_type": "code",
   "execution_count": 23,
   "id": "08a77a04-ef2b-47f1-ab69-f88d9e3e6750",
   "metadata": {},
   "outputs": [],
   "source": [
    "bad_data_loan_def_delin1_df = spark.sql(\"\"\"select member_id from (select member_id ,count(*) as \n",
    "total from project_trendy.loans_defaulters_delinq group by member_id having count(*)>1 order \n",
    "by total desc)\n",
    "\"\"\")"
   ]
  },
  {
   "cell_type": "code",
   "execution_count": 24,
   "id": "1a4eae8e-0cc3-42f5-beba-0247d786f99e",
   "metadata": {},
   "outputs": [
    {
     "data": {
      "text/plain": [
       "136"
      ]
     },
     "execution_count": 24,
     "metadata": {},
     "output_type": "execute_result"
    }
   ],
   "source": [
    "bad_data_loan_def_delin1_df.count()"
   ]
  },
  {
   "cell_type": "code",
   "execution_count": 25,
   "id": "79762f02-9a62-4f22-9244-35382c4812c9",
   "metadata": {},
   "outputs": [],
   "source": [
    "bad_data_defaulters_detail_rec_enq = spark.sql(\"\"\"select member_id from (select member_id ,count(*) as \n",
    "total from project_trendy.loans_defaulters_detail_rec_enq group by member_id having count(*)>1 order \n",
    "by total desc)\n",
    "\"\"\")"
   ]
  },
  {
   "cell_type": "code",
   "execution_count": 26,
   "id": "14c4d941-1ad9-41e2-b9f5-d2548c7826b2",
   "metadata": {},
   "outputs": [
    {
     "data": {
      "text/plain": [
       "123"
      ]
     },
     "execution_count": 26,
     "metadata": {},
     "output_type": "execute_result"
    }
   ],
   "source": [
    "bad_data_defaulters_detail_rec_enq.count()"
   ]
  },
  {
   "cell_type": "code",
   "execution_count": 29,
   "id": "6862e5cc-be81-42fb-a933-629fd5038a99",
   "metadata": {},
   "outputs": [],
   "source": [
    "bad_data_customer_df.repartition(1).write.format(\"csv\").option(\"header\",True).mode(\"overwrite\") \\\n",
    ".option(\"path\",\"/home/tushar/Documents/project/bad_data/customers\").save()"
   ]
  },
  {
   "cell_type": "code",
   "execution_count": 30,
   "id": "dcc984f9-c8bb-406a-99c6-afce4f4e8977",
   "metadata": {},
   "outputs": [],
   "source": [
    "bad_data_loan_def_delin1_df.repartition(1).write.format(\"csv\").option(\"header\",True).mode(\"overwrite\") \\\n",
    ".option(\"path\",\"/home/tushar/Documents/project/bad_data/defaulters_detail\").save()"
   ]
  },
  {
   "cell_type": "code",
   "execution_count": 31,
   "id": "f63bc44a-1aa9-4b07-a467-1a861481f4e4",
   "metadata": {},
   "outputs": [],
   "source": [
    "bad_data_defaulters_detail_rec_enq.repartition(1).write.format(\"csv\").option(\"header\",True).mode(\"overwrite\") \\\n",
    ".option(\"path\",\"/home/tushar/Documents/project/bad_data/defaulters_enquiry\").save()"
   ]
  },
  {
   "cell_type": "code",
   "execution_count": 33,
   "id": "1b5cff29-a328-41ce-ab2b-492be1fd00ce",
   "metadata": {},
   "outputs": [],
   "source": [
    "bad_conolidated = bad_data_customer_df.select(\"member_id\") \\\n",
    ".union(bad_data_loan_def_delin1_df.select(\"member_id\")) \\\n",
    ".union(bad_data_defaulters_detail_rec_enq.select(\"member_id\"))"
   ]
  },
  {
   "cell_type": "code",
   "execution_count": 36,
   "id": "755a56c8-3d8b-4f1d-80b9-4002075ce712",
   "metadata": {},
   "outputs": [
    {
     "name": "stderr",
     "output_type": "stream",
     "text": [
      "                                                                                \r"
     ]
    },
    {
     "data": {
      "text/plain": [
       "735"
      ]
     },
     "execution_count": 36,
     "metadata": {},
     "output_type": "execute_result"
    }
   ],
   "source": [
    "bad_conolidated .count()"
   ]
  },
  {
   "cell_type": "code",
   "execution_count": 34,
   "id": "32ef4287-b493-4758-a671-153a7f88af20",
   "metadata": {},
   "outputs": [],
   "source": [
    "bad_consolidated = bad_conolidated.distinct()"
   ]
  },
  {
   "cell_type": "code",
   "execution_count": 35,
   "id": "36320b67-52d4-4cd5-9fad-3ee01d70d506",
   "metadata": {},
   "outputs": [
    {
     "name": "stderr",
     "output_type": "stream",
     "text": [
      "                                                                                \r"
     ]
    },
    {
     "data": {
      "text/plain": [
       "476"
      ]
     },
     "execution_count": 35,
     "metadata": {},
     "output_type": "execute_result"
    }
   ],
   "source": [
    "bad_consolidated.count()"
   ]
  },
  {
   "cell_type": "code",
   "execution_count": 37,
   "id": "33561a38-17c6-4396-8b35-bdac3c7d47c9",
   "metadata": {},
   "outputs": [
    {
     "name": "stderr",
     "output_type": "stream",
     "text": [
      "                                                                                \r"
     ]
    }
   ],
   "source": [
    "bad_consolidated.repartition(1).write.format(\"csv\").option(\"header\",True).mode(\"overwrite\") \\\n",
    ".option(\"path\",\"/home/tushar/Documents/project/bad_data/consolidated\").save()"
   ]
  },
  {
   "cell_type": "code",
   "execution_count": 41,
   "id": "e26f1457-c75d-47b8-9bef-697cd7c71c2d",
   "metadata": {},
   "outputs": [],
   "source": [
    "bad_consolidated.createOrReplaceTempView(\"bad_data\")"
   ]
  },
  {
   "cell_type": "code",
   "execution_count": null,
   "id": "cdccdabb-e2d3-4858-9126-c1007b181046",
   "metadata": {},
   "outputs": [],
   "source": []
  },
  {
   "cell_type": "code",
   "execution_count": 45,
   "id": "a6c04482-c4b3-4ba9-bf7e-d2950b9d77b8",
   "metadata": {},
   "outputs": [],
   "source": [
    "custom_df = spark.sql(\"select * from project_trendy.customers where member_id not in (select member_id from bad_data)\")"
   ]
  },
  {
   "cell_type": "code",
   "execution_count": 47,
   "id": "a15a9ef6-1d89-41e2-be4f-b12b4a324802",
   "metadata": {},
   "outputs": [
    {
     "name": "stderr",
     "output_type": "stream",
     "text": [
      "                                                                                \r"
     ]
    }
   ],
   "source": [
    "custom_df.write \\\n",
    ".format(\"parquet\") \\\n",
    ".mode(\"overwrite\") \\\n",
    ".option(\"path\",\"/home/tushar/Documents/project/removed_bad_data/customer\").save()"
   ]
  },
  {
   "cell_type": "code",
   "execution_count": 48,
   "id": "0fc0591f-897c-4e6c-8b0c-04c2caf0c820",
   "metadata": {},
   "outputs": [],
   "source": [
    "detail_df = spark.sql(\"select * from project_trendy.loans_defaulters_delinq where member_id not in (select member_id from bad_data)\")"
   ]
  },
  {
   "cell_type": "code",
   "execution_count": 49,
   "id": "2dce6410-4957-4481-90c5-d6b7723d99de",
   "metadata": {},
   "outputs": [
    {
     "name": "stderr",
     "output_type": "stream",
     "text": [
      "                                                                                \r"
     ]
    }
   ],
   "source": [
    "detail_df.write \\\n",
    ".format(\"parquet\") \\\n",
    ".mode(\"overwrite\") \\\n",
    ".option(\"path\",\"/home/tushar/Documents/project/removed_bad_data/default_detail\").save()"
   ]
  },
  {
   "cell_type": "code",
   "execution_count": 50,
   "id": "ac1a6f07-66b6-4864-b0bb-3ef3e26bfb1f",
   "metadata": {},
   "outputs": [],
   "source": [
    "enquiry_df = spark.sql(\"select * from project_trendy.loans_defaulters_detail_rec_enq where member_id not in (select member_id from bad_data)\")"
   ]
  },
  {
   "cell_type": "code",
   "execution_count": 51,
   "id": "501e7354-1fd9-483a-aed6-e119f965bed3",
   "metadata": {},
   "outputs": [
    {
     "name": "stderr",
     "output_type": "stream",
     "text": [
      "                                                                                \r"
     ]
    }
   ],
   "source": [
    "enquiry_df.write \\\n",
    ".format(\"parquet\") \\\n",
    ".mode(\"overwrite\") \\\n",
    ".option(\"path\",\"/home/tushar/Documents/project/removed_bad_data/default_enquiry\").save()"
   ]
  },
  {
   "cell_type": "code",
   "execution_count": null,
   "id": "83e408ac-3d10-468d-b654-cf1eeca8e372",
   "metadata": {},
   "outputs": [],
   "source": []
  }
 ],
 "metadata": {
  "kernelspec": {
   "display_name": "spark",
   "language": "python",
   "name": "spark"
  },
  "language_info": {
   "codemirror_mode": {
    "name": "ipython",
    "version": 3
   },
   "file_extension": ".py",
   "mimetype": "text/x-python",
   "name": "python",
   "nbconvert_exporter": "python",
   "pygments_lexer": "ipython3",
   "version": "3.10.12"
  }
 },
 "nbformat": 4,
 "nbformat_minor": 5
}
